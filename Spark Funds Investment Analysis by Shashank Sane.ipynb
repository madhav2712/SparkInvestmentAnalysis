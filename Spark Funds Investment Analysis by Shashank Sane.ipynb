{
 "cells": [
  {
   "cell_type": "markdown",
   "metadata": {},
   "source": [
    "# Spark Funds Investment Analysis\n",
    "\n",
    "Following are the business objectives and goals of data analysis.\n",
    "\n",
    "**Business objective**: The objective is to identify the best sectors, countries, and a suitable investment type for making investments. The overall strategy is to invest where others are investing, implying that the 'best' sectors and countries are the ones 'where most investors are investing'.\n",
    "\n",
    "**Goals of data analysis**: data analysis goals are divided into three sub-goals:\n",
    "* Investment type analysis: Comparing the typical investment amounts in the venture, seed, angel, private equity etc. so that Spark Funds can choose the type that is best suited for their strategy.\n",
    "* Country analysis: Identifying the countries which have been the most heavily invested in the past. These will be Spark Funds’ favourites as well, the additional constraint is that Sparks Funds' wants to invest in english speaking countries only.\n",
    "* Sector analysis: Understanding the distribution of investments across the eight main sectors. (Note that we are interested in the eight 'main sectors' provided in the mapping file. The two files — companies and rounds2 — have numerous sub-sector names; hence, you will need to map each sub-sector to its main sector.)"
   ]
  },
  {
   "cell_type": "code",
   "execution_count": 729,
   "metadata": {
    "collapsed": true
   },
   "outputs": [],
   "source": [
    "# load required libraries\n",
    "import numpy as np\n",
    "import pandas as pd\n",
    "import matplotlib.pyplot as plt\n",
    "import seaborn as sns"
   ]
  },
  {
   "cell_type": "markdown",
   "metadata": {},
   "source": [
    "## Checkpoint 1: Data Cleaning"
   ]
  },
  {
   "cell_type": "code",
   "execution_count": 730,
   "metadata": {
    "collapsed": false
   },
   "outputs": [
    {
     "data": {
      "text/html": [
       "<div>\n",
       "<style>\n",
       "    .dataframe thead tr:only-child th {\n",
       "        text-align: right;\n",
       "    }\n",
       "\n",
       "    .dataframe thead th {\n",
       "        text-align: left;\n",
       "    }\n",
       "\n",
       "    .dataframe tbody tr th {\n",
       "        vertical-align: top;\n",
       "    }\n",
       "</style>\n",
       "<table border=\"1\" class=\"dataframe\">\n",
       "  <thead>\n",
       "    <tr style=\"text-align: right;\">\n",
       "      <th></th>\n",
       "      <th>permalink</th>\n",
       "      <th>name</th>\n",
       "      <th>homepage_url</th>\n",
       "      <th>category_list</th>\n",
       "      <th>status</th>\n",
       "      <th>country_code</th>\n",
       "      <th>state_code</th>\n",
       "      <th>region</th>\n",
       "      <th>city</th>\n",
       "      <th>founded_at</th>\n",
       "    </tr>\n",
       "  </thead>\n",
       "  <tbody>\n",
       "    <tr>\n",
       "      <th>0</th>\n",
       "      <td>/Organization/-Fame</td>\n",
       "      <td>#fame</td>\n",
       "      <td>http://livfame.com</td>\n",
       "      <td>Media</td>\n",
       "      <td>operating</td>\n",
       "      <td>IND</td>\n",
       "      <td>16</td>\n",
       "      <td>Mumbai</td>\n",
       "      <td>Mumbai</td>\n",
       "      <td>NaN</td>\n",
       "    </tr>\n",
       "    <tr>\n",
       "      <th>1</th>\n",
       "      <td>/Organization/-Qounter</td>\n",
       "      <td>:Qounter</td>\n",
       "      <td>http://www.qounter.com</td>\n",
       "      <td>Application Platforms|Real Time|Social Network...</td>\n",
       "      <td>operating</td>\n",
       "      <td>USA</td>\n",
       "      <td>DE</td>\n",
       "      <td>DE - Other</td>\n",
       "      <td>Delaware City</td>\n",
       "      <td>04-09-2014</td>\n",
       "    </tr>\n",
       "    <tr>\n",
       "      <th>2</th>\n",
       "      <td>/Organization/-The-One-Of-Them-Inc-</td>\n",
       "      <td>(THE) ONE of THEM,Inc.</td>\n",
       "      <td>http://oneofthem.jp</td>\n",
       "      <td>Apps|Games|Mobile</td>\n",
       "      <td>operating</td>\n",
       "      <td>NaN</td>\n",
       "      <td>NaN</td>\n",
       "      <td>NaN</td>\n",
       "      <td>NaN</td>\n",
       "      <td>NaN</td>\n",
       "    </tr>\n",
       "    <tr>\n",
       "      <th>3</th>\n",
       "      <td>/Organization/0-6-Com</td>\n",
       "      <td>0-6.com</td>\n",
       "      <td>http://www.0-6.com</td>\n",
       "      <td>Curated Web</td>\n",
       "      <td>operating</td>\n",
       "      <td>CHN</td>\n",
       "      <td>22</td>\n",
       "      <td>Beijing</td>\n",
       "      <td>Beijing</td>\n",
       "      <td>01-01-2007</td>\n",
       "    </tr>\n",
       "    <tr>\n",
       "      <th>4</th>\n",
       "      <td>/Organization/004-Technologies</td>\n",
       "      <td>004 Technologies</td>\n",
       "      <td>http://004gmbh.de/en/004-interact</td>\n",
       "      <td>Software</td>\n",
       "      <td>operating</td>\n",
       "      <td>USA</td>\n",
       "      <td>IL</td>\n",
       "      <td>Springfield, Illinois</td>\n",
       "      <td>Champaign</td>\n",
       "      <td>01-01-2010</td>\n",
       "    </tr>\n",
       "  </tbody>\n",
       "</table>\n",
       "</div>"
      ],
      "text/plain": [
       "                             permalink                    name  \\\n",
       "0                  /Organization/-Fame                   #fame   \n",
       "1               /Organization/-Qounter                :Qounter   \n",
       "2  /Organization/-The-One-Of-Them-Inc-  (THE) ONE of THEM,Inc.   \n",
       "3                /Organization/0-6-Com                 0-6.com   \n",
       "4       /Organization/004-Technologies        004 Technologies   \n",
       "\n",
       "                        homepage_url  \\\n",
       "0                 http://livfame.com   \n",
       "1             http://www.qounter.com   \n",
       "2                http://oneofthem.jp   \n",
       "3                 http://www.0-6.com   \n",
       "4  http://004gmbh.de/en/004-interact   \n",
       "\n",
       "                                       category_list     status country_code  \\\n",
       "0                                              Media  operating          IND   \n",
       "1  Application Platforms|Real Time|Social Network...  operating          USA   \n",
       "2                                  Apps|Games|Mobile  operating          NaN   \n",
       "3                                        Curated Web  operating          CHN   \n",
       "4                                           Software  operating          USA   \n",
       "\n",
       "  state_code                 region           city  founded_at  \n",
       "0         16                 Mumbai         Mumbai         NaN  \n",
       "1         DE             DE - Other  Delaware City  04-09-2014  \n",
       "2        NaN                    NaN            NaN         NaN  \n",
       "3         22                Beijing        Beijing  01-01-2007  \n",
       "4         IL  Springfield, Illinois      Champaign  01-01-2010  "
      ]
     },
     "execution_count": 730,
     "metadata": {},
     "output_type": "execute_result"
    }
   ],
   "source": [
    "# load the companies data frame based on companies.txt file provided.\n",
    "companies = pd.read_csv('./companies.txt',sep='\\t', encoding = \"ISO-8859-1\")\n",
    "companies.head()"
   ]
  },
  {
   "cell_type": "code",
   "execution_count": 731,
   "metadata": {
    "collapsed": false
   },
   "outputs": [
    {
     "name": "stdout",
     "output_type": "stream",
     "text": [
      "(66368, 10)\n"
     ]
    },
    {
     "data": {
      "text/html": [
       "<div>\n",
       "<style>\n",
       "    .dataframe thead tr:only-child th {\n",
       "        text-align: right;\n",
       "    }\n",
       "\n",
       "    .dataframe thead th {\n",
       "        text-align: left;\n",
       "    }\n",
       "\n",
       "    .dataframe tbody tr th {\n",
       "        vertical-align: top;\n",
       "    }\n",
       "</style>\n",
       "<table border=\"1\" class=\"dataframe\">\n",
       "  <thead>\n",
       "    <tr style=\"text-align: right;\">\n",
       "      <th></th>\n",
       "      <th>permalink</th>\n",
       "      <th>name</th>\n",
       "      <th>homepage_url</th>\n",
       "      <th>category_list</th>\n",
       "      <th>status</th>\n",
       "      <th>country_code</th>\n",
       "      <th>state_code</th>\n",
       "      <th>region</th>\n",
       "      <th>city</th>\n",
       "      <th>founded_at</th>\n",
       "    </tr>\n",
       "  </thead>\n",
       "  <tbody>\n",
       "    <tr>\n",
       "      <th>count</th>\n",
       "      <td>66368</td>\n",
       "      <td>66367</td>\n",
       "      <td>61310</td>\n",
       "      <td>63220</td>\n",
       "      <td>66368</td>\n",
       "      <td>59410</td>\n",
       "      <td>57821</td>\n",
       "      <td>58338</td>\n",
       "      <td>58340</td>\n",
       "      <td>51147</td>\n",
       "    </tr>\n",
       "    <tr>\n",
       "      <th>unique</th>\n",
       "      <td>66368</td>\n",
       "      <td>66102</td>\n",
       "      <td>61191</td>\n",
       "      <td>27296</td>\n",
       "      <td>4</td>\n",
       "      <td>137</td>\n",
       "      <td>311</td>\n",
       "      <td>1092</td>\n",
       "      <td>5111</td>\n",
       "      <td>3978</td>\n",
       "    </tr>\n",
       "    <tr>\n",
       "      <th>top</th>\n",
       "      <td>/Organization/Social-Grade</td>\n",
       "      <td>Roost</td>\n",
       "      <td>http://www.askforoffer.com</td>\n",
       "      <td>Software</td>\n",
       "      <td>operating</td>\n",
       "      <td>USA</td>\n",
       "      <td>CA</td>\n",
       "      <td>SF Bay Area</td>\n",
       "      <td>San Francisco</td>\n",
       "      <td>01-01-2012</td>\n",
       "    </tr>\n",
       "    <tr>\n",
       "      <th>freq</th>\n",
       "      <td>1</td>\n",
       "      <td>4</td>\n",
       "      <td>5</td>\n",
       "      <td>3995</td>\n",
       "      <td>53034</td>\n",
       "      <td>37601</td>\n",
       "      <td>12900</td>\n",
       "      <td>8804</td>\n",
       "      <td>3526</td>\n",
       "      <td>2730</td>\n",
       "    </tr>\n",
       "  </tbody>\n",
       "</table>\n",
       "</div>"
      ],
      "text/plain": [
       "                         permalink   name                homepage_url  \\\n",
       "count                        66368  66367                       61310   \n",
       "unique                       66368  66102                       61191   \n",
       "top     /Organization/Social-Grade  Roost  http://www.askforoffer.com   \n",
       "freq                             1      4                           5   \n",
       "\n",
       "       category_list     status country_code state_code       region  \\\n",
       "count          63220      66368        59410      57821        58338   \n",
       "unique         27296          4          137        311         1092   \n",
       "top         Software  operating          USA         CA  SF Bay Area   \n",
       "freq            3995      53034        37601      12900         8804   \n",
       "\n",
       "                 city  founded_at  \n",
       "count           58340       51147  \n",
       "unique           5111        3978  \n",
       "top     San Francisco  01-01-2012  \n",
       "freq             3526        2730  "
      ]
     },
     "execution_count": 731,
     "metadata": {},
     "output_type": "execute_result"
    }
   ],
   "source": [
    "# Analyzing the companies data frame\n",
    "print(companies.shape)\n",
    "companies.describe()"
   ]
  },
  {
   "cell_type": "code",
   "execution_count": 732,
   "metadata": {
    "collapsed": false
   },
   "outputs": [
    {
     "data": {
      "text/plain": [
       "permalink         0.000000\n",
       "name              0.001507\n",
       "homepage_url      7.621143\n",
       "category_list     4.743250\n",
       "status            0.000000\n",
       "country_code     10.483968\n",
       "state_code       12.878194\n",
       "region           12.099204\n",
       "city             12.096191\n",
       "founded_at       22.934245\n",
       "dtype: float64"
      ]
     },
     "execution_count": 732,
     "metadata": {},
     "output_type": "execute_result"
    }
   ],
   "source": [
    "# find how many % of values in columns are null\n",
    "100*(companies.isnull().sum()/len(companies.index))"
   ]
  },
  {
   "cell_type": "markdown",
   "metadata": {},
   "source": [
    "We can observe from above that:\n",
    "* permalink is the unique identifier with no null value and frequency of occurance as 1\n",
    "* We observe from above that around 10.5% rows have country code missing, we cannot use this data as we need to find english speaking countries for investment.\n",
    "\n",
    "The business objective of our analysis does not require columns like state_code,region, city,founded_at, let's remove these columns"
   ]
  },
  {
   "cell_type": "code",
   "execution_count": 733,
   "metadata": {
    "collapsed": false
   },
   "outputs": [],
   "source": [
    "companies = companies.iloc[:,:-4]"
   ]
  },
  {
   "cell_type": "code",
   "execution_count": 734,
   "metadata": {
    "collapsed": false
   },
   "outputs": [
    {
     "data": {
      "text/plain": [
       "0"
      ]
     },
     "execution_count": 734,
     "metadata": {},
     "output_type": "execute_result"
    }
   ],
   "source": [
    "# find how many rows have all values as null\n",
    "companies.isnull().all(axis=1).sum()"
   ]
  },
  {
   "cell_type": "code",
   "execution_count": 735,
   "metadata": {
    "collapsed": false
   },
   "outputs": [
    {
     "data": {
      "text/plain": [
       "count                          66368\n",
       "unique                         66368\n",
       "top       /Organization/Social-Grade\n",
       "freq                               1\n",
       "Name: permalink, dtype: object"
      ]
     },
     "execution_count": 735,
     "metadata": {},
     "output_type": "execute_result"
    }
   ],
   "source": [
    "# number of unique companies in company.txt\n",
    "companies.permalink.describe()"
   ]
  },
  {
   "cell_type": "code",
   "execution_count": 737,
   "metadata": {
    "collapsed": false
   },
   "outputs": [
    {
     "data": {
      "text/html": [
       "<div>\n",
       "<style>\n",
       "    .dataframe thead tr:only-child th {\n",
       "        text-align: right;\n",
       "    }\n",
       "\n",
       "    .dataframe thead th {\n",
       "        text-align: left;\n",
       "    }\n",
       "\n",
       "    .dataframe tbody tr th {\n",
       "        vertical-align: top;\n",
       "    }\n",
       "</style>\n",
       "<table border=\"1\" class=\"dataframe\">\n",
       "  <thead>\n",
       "    <tr style=\"text-align: right;\">\n",
       "      <th></th>\n",
       "      <th>company_permalink</th>\n",
       "      <th>funding_round_permalink</th>\n",
       "      <th>funding_round_type</th>\n",
       "      <th>funding_round_code</th>\n",
       "      <th>funded_at</th>\n",
       "      <th>raised_amount_usd</th>\n",
       "    </tr>\n",
       "  </thead>\n",
       "  <tbody>\n",
       "    <tr>\n",
       "      <th>0</th>\n",
       "      <td>/organization/-fame</td>\n",
       "      <td>/funding-round/9a01d05418af9f794eebff7ace91f638</td>\n",
       "      <td>venture</td>\n",
       "      <td>B</td>\n",
       "      <td>05-01-2015</td>\n",
       "      <td>10000000.0</td>\n",
       "    </tr>\n",
       "    <tr>\n",
       "      <th>1</th>\n",
       "      <td>/ORGANIZATION/-QOUNTER</td>\n",
       "      <td>/funding-round/22dacff496eb7acb2b901dec1dfe5633</td>\n",
       "      <td>venture</td>\n",
       "      <td>A</td>\n",
       "      <td>14-10-2014</td>\n",
       "      <td>NaN</td>\n",
       "    </tr>\n",
       "    <tr>\n",
       "      <th>2</th>\n",
       "      <td>/organization/-qounter</td>\n",
       "      <td>/funding-round/b44fbb94153f6cdef13083530bb48030</td>\n",
       "      <td>seed</td>\n",
       "      <td>NaN</td>\n",
       "      <td>01-03-2014</td>\n",
       "      <td>700000.0</td>\n",
       "    </tr>\n",
       "    <tr>\n",
       "      <th>3</th>\n",
       "      <td>/ORGANIZATION/-THE-ONE-OF-THEM-INC-</td>\n",
       "      <td>/funding-round/650b8f704416801069bb178a1418776b</td>\n",
       "      <td>venture</td>\n",
       "      <td>B</td>\n",
       "      <td>30-01-2014</td>\n",
       "      <td>3406878.0</td>\n",
       "    </tr>\n",
       "    <tr>\n",
       "      <th>4</th>\n",
       "      <td>/organization/0-6-com</td>\n",
       "      <td>/funding-round/5727accaeaa57461bd22a9bdd945382d</td>\n",
       "      <td>venture</td>\n",
       "      <td>A</td>\n",
       "      <td>19-03-2008</td>\n",
       "      <td>2000000.0</td>\n",
       "    </tr>\n",
       "  </tbody>\n",
       "</table>\n",
       "</div>"
      ],
      "text/plain": [
       "                     company_permalink  \\\n",
       "0                  /organization/-fame   \n",
       "1               /ORGANIZATION/-QOUNTER   \n",
       "2               /organization/-qounter   \n",
       "3  /ORGANIZATION/-THE-ONE-OF-THEM-INC-   \n",
       "4                /organization/0-6-com   \n",
       "\n",
       "                           funding_round_permalink funding_round_type  \\\n",
       "0  /funding-round/9a01d05418af9f794eebff7ace91f638            venture   \n",
       "1  /funding-round/22dacff496eb7acb2b901dec1dfe5633            venture   \n",
       "2  /funding-round/b44fbb94153f6cdef13083530bb48030               seed   \n",
       "3  /funding-round/650b8f704416801069bb178a1418776b            venture   \n",
       "4  /funding-round/5727accaeaa57461bd22a9bdd945382d            venture   \n",
       "\n",
       "  funding_round_code   funded_at  raised_amount_usd  \n",
       "0                  B  05-01-2015         10000000.0  \n",
       "1                  A  14-10-2014                NaN  \n",
       "2                NaN  01-03-2014           700000.0  \n",
       "3                  B  30-01-2014          3406878.0  \n",
       "4                  A  19-03-2008          2000000.0  "
      ]
     },
     "execution_count": 737,
     "metadata": {},
     "output_type": "execute_result"
    }
   ],
   "source": [
    "# load funding rounds data in data frame rounds2\n",
    "rounds2 = pd.read_csv('./rounds2.csv',encoding = \"ISO-8859-1\")\n",
    "\n",
    "# inspect the rounds2 data frame\n",
    "rounds2.head()"
   ]
  },
  {
   "cell_type": "code",
   "execution_count": 738,
   "metadata": {
    "collapsed": false
   },
   "outputs": [
    {
     "data": {
      "text/plain": [
       "company_permalink           0.000000\n",
       "funding_round_permalink     0.000000\n",
       "funding_round_type          0.000000\n",
       "funding_round_code         72.909725\n",
       "funded_at                   0.000000\n",
       "raised_amount_usd          17.390321\n",
       "dtype: float64"
      ]
     },
     "execution_count": 738,
     "metadata": {},
     "output_type": "execute_result"
    }
   ],
   "source": [
    "# check the percentage of null values present.\n",
    "100*(rounds2.isnull().sum()/len(rounds2.index))"
   ]
  },
  {
   "cell_type": "markdown",
   "metadata": {},
   "source": [
    "We see from above that around 17.39% of data does not have any funding amount raised information."
   ]
  },
  {
   "cell_type": "code",
   "execution_count": 739,
   "metadata": {
    "collapsed": false
   },
   "outputs": [
    {
     "data": {
      "text/plain": [
       "count                       114949\n",
       "unique                       90247\n",
       "top       /ORGANIZATION/SOLARFLARE\n",
       "freq                            10\n",
       "Name: company_permalink, dtype: object"
      ]
     },
     "execution_count": 739,
     "metadata": {},
     "output_type": "execute_result"
    }
   ],
   "source": [
    "# number of unique companies listed in rounds2\n",
    "rounds2.company_permalink.describe()"
   ]
  },
  {
   "cell_type": "code",
   "execution_count": 8,
   "metadata": {
    "collapsed": false
   },
   "outputs": [
    {
     "data": {
      "text/plain": [
       "1680511.0"
      ]
     },
     "execution_count": 8,
     "metadata": {},
     "output_type": "execute_result"
    }
   ],
   "source": [
    "# what is the median raised amount\n",
    "rounds2.raised_amount_usd.median()\n",
    "# rounds2.raised_amount_usd.describe()"
   ]
  },
  {
   "cell_type": "code",
   "execution_count": 740,
   "metadata": {
    "collapsed": false
   },
   "outputs": [],
   "source": [
    "# we observe that companiy permalink in companies and rounds2 data frames have different casing\n",
    "# we will convert the company permalink in both companies and rounds2 data frames to lowercase\n",
    "companies.permalink = companies.permalink.apply(lambda x: str.lower(x))\n",
    "rounds2.company_permalink = rounds2.company_permalink.apply(lambda x: str.lower(x))"
   ]
  },
  {
   "cell_type": "code",
   "execution_count": 834,
   "metadata": {
    "collapsed": true
   },
   "outputs": [],
   "source": [
    "# take inner join of companies and rounds2 data frames and creat a new data frame master_frame\n",
    "master_frame = companies.merge(rounds2,how='inner',left_on='permalink',right_on='company_permalink')"
   ]
  },
  {
   "cell_type": "code",
   "execution_count": 835,
   "metadata": {
    "collapsed": false
   },
   "outputs": [
    {
     "data": {
      "text/plain": [
       "114942"
      ]
     },
     "execution_count": 835,
     "metadata": {},
     "output_type": "execute_result"
    }
   ],
   "source": [
    "# find number of observations present in master_frame\n",
    "len(master_frame)"
   ]
  },
  {
   "cell_type": "code",
   "execution_count": 78,
   "metadata": {
    "collapsed": false
   },
   "outputs": [
    {
     "data": {
      "text/plain": [
       "permalink                   0.000000\n",
       "name                        0.000870\n",
       "homepage_url                5.334865\n",
       "category_list               2.964104\n",
       "status                      0.000000\n",
       "country_code                7.543805\n",
       "state_code                  9.516974\n",
       "region                      8.839241\n",
       "city                        8.836631\n",
       "founded_at                 17.852482\n",
       "company_permalink           0.000000\n",
       "funding_round_permalink     0.000000\n",
       "funding_round_type          0.000000\n",
       "funding_round_code         72.908945\n",
       "funded_at                   0.000000\n",
       "raised_amount_usd          17.386160\n",
       "dtype: float64"
      ]
     },
     "execution_count": 78,
     "metadata": {},
     "output_type": "execute_result"
    }
   ],
   "source": [
    "# check the % of missing values in master_frame\n",
    "100*(master_frame.isnull().sum()/len(master_frame.index))"
   ]
  },
  {
   "cell_type": "markdown",
   "metadata": {},
   "source": [
    "We observe from above that among the important columns we have missing values:\n",
    "* 7.54% of country data is missing\n",
    "* 2.96% of category list investment area is missing\n",
    "* 17.39% of investment amount raised is missing\n",
    "\n",
    "Let us check the proportion of investment amount which is getting impacted due to missing country and category_list information."
   ]
  },
  {
   "cell_type": "code",
   "execution_count": 743,
   "metadata": {
    "collapsed": false
   },
   "outputs": [
    {
     "data": {
      "text/plain": [
       "5.767927483099499"
      ]
     },
     "execution_count": 743,
     "metadata": {},
     "output_type": "execute_result"
    }
   ],
   "source": [
    "# proportion of total funding amount for which country code is missing\n",
    "100*(master_frame[master_frame.country_code.isnull()].raised_amount_usd.sum()/master_frame.raised_amount_usd.sum())"
   ]
  },
  {
   "cell_type": "code",
   "execution_count": 744,
   "metadata": {
    "collapsed": false
   },
   "outputs": [
    {
     "data": {
      "text/plain": [
       "1.1231459170813058"
      ]
     },
     "execution_count": 744,
     "metadata": {},
     "output_type": "execute_result"
    }
   ],
   "source": [
    "# proportion of total funding amount for which category list is missing\n",
    "100*(master_frame[master_frame.category_list.isnull()].raised_amount_usd.sum()/master_frame.raised_amount_usd.sum())"
   ]
  },
  {
   "cell_type": "code",
   "execution_count": 745,
   "metadata": {
    "collapsed": false
   },
   "outputs": [
    {
     "data": {
      "text/plain": [
       "6.351128930081111"
      ]
     },
     "execution_count": 745,
     "metadata": {},
     "output_type": "execute_result"
    }
   ],
   "source": [
    "# proportion of total funding amount for which either category list or country or both is missing\n",
    "100*(master_frame[master_frame.category_list.isnull()|master_frame.country_code.isnull()].raised_amount_usd.sum()/master_frame.raised_amount_usd.sum())"
   ]
  },
  {
   "cell_type": "code",
   "execution_count": 746,
   "metadata": {
    "collapsed": false
   },
   "outputs": [
    {
     "name": "stdout",
     "output_type": "stream",
     "text": [
      "<class 'pandas.core.frame.DataFrame'>\n",
      "Int64Index: 114942 entries, 0 to 114941\n",
      "Data columns (total 12 columns):\n",
      "permalink                  114942 non-null object\n",
      "name                       114941 non-null object\n",
      "homepage_url               108810 non-null object\n",
      "category_list              111535 non-null object\n",
      "status                     114942 non-null object\n",
      "country_code               106271 non-null object\n",
      "company_permalink          114942 non-null object\n",
      "funding_round_permalink    114942 non-null object\n",
      "funding_round_type         114942 non-null object\n",
      "funding_round_code         31139 non-null object\n",
      "funded_at                  114942 non-null object\n",
      "raised_amount_usd          94958 non-null float64\n",
      "dtypes: float64(1), object(11)\n",
      "memory usage: 11.4+ MB\n"
     ]
    }
   ],
   "source": [
    "# let us check details about master_frame number of entries etc.\n",
    "master_frame.info()"
   ]
  },
  {
   "cell_type": "code",
   "execution_count": 747,
   "metadata": {
    "collapsed": false
   },
   "outputs": [
    {
     "data": {
      "text/plain": [
       "7"
      ]
     },
     "execution_count": 747,
     "metadata": {},
     "output_type": "execute_result"
    }
   ],
   "source": [
    "# find out if there are any company entries in rounds2 that are not present in company data\n",
    "# we do so by taking a left outer join b/w rounds2 and companies data frames and \n",
    "# counting the number of null permalink values present.\n",
    "pd.merge(rounds2,companies,how='left', left_on='company_permalink',right_on='permalink').permalink.isnull().sum()"
   ]
  },
  {
   "cell_type": "markdown",
   "metadata": {},
   "source": [
    "we can also find out which are these 7 company_permalink values that are present in rounds2 data frame but not present\n",
    "in companies data frame.\n",
    "Below we will do analysis by an alternative method to find the companies which are present in rounds2 data frame but not in companies data frame."
   ]
  },
  {
   "cell_type": "code",
   "execution_count": 748,
   "metadata": {
    "collapsed": false
   },
   "outputs": [],
   "source": [
    "# derive list of companies that are in companies data frame\n",
    "company_list = list(companies.permalink)"
   ]
  },
  {
   "cell_type": "code",
   "execution_count": 749,
   "metadata": {
    "collapsed": false
   },
   "outputs": [
    {
     "data": {
      "text/html": [
       "<div>\n",
       "<style>\n",
       "    .dataframe thead tr:only-child th {\n",
       "        text-align: right;\n",
       "    }\n",
       "\n",
       "    .dataframe thead th {\n",
       "        text-align: left;\n",
       "    }\n",
       "\n",
       "    .dataframe tbody tr th {\n",
       "        vertical-align: top;\n",
       "    }\n",
       "</style>\n",
       "<table border=\"1\" class=\"dataframe\">\n",
       "  <thead>\n",
       "    <tr style=\"text-align: right;\">\n",
       "      <th></th>\n",
       "      <th>company_permalink</th>\n",
       "      <th>funding_round_permalink</th>\n",
       "      <th>funding_round_type</th>\n",
       "      <th>funding_round_code</th>\n",
       "      <th>funded_at</th>\n",
       "      <th>raised_amount_usd</th>\n",
       "    </tr>\n",
       "  </thead>\n",
       "  <tbody>\n",
       "    <tr>\n",
       "      <th>29597</th>\n",
       "      <td>/organization/e-cãbica</td>\n",
       "      <td>/funding-round/8491f74869e4fe8ba9c378394f8fbdea</td>\n",
       "      <td>seed</td>\n",
       "      <td>NaN</td>\n",
       "      <td>01-02-2015</td>\n",
       "      <td>NaN</td>\n",
       "    </tr>\n",
       "    <tr>\n",
       "      <th>31863</th>\n",
       "      <td>/organization/energystone-games-çµç³æ¸¸æ</td>\n",
       "      <td>/funding-round/b89553f3d2279c5683ae93f45a21cfe0</td>\n",
       "      <td>seed</td>\n",
       "      <td>NaN</td>\n",
       "      <td>09-08-2014</td>\n",
       "      <td>NaN</td>\n",
       "    </tr>\n",
       "    <tr>\n",
       "      <th>45176</th>\n",
       "      <td>/organization/huizuche-com-æ ç§ÿè½¦</td>\n",
       "      <td>/funding-round/8f8a32dbeeb0f831a78702f83af78a36</td>\n",
       "      <td>seed</td>\n",
       "      <td>NaN</td>\n",
       "      <td>18-09-2014</td>\n",
       "      <td>NaN</td>\n",
       "    </tr>\n",
       "    <tr>\n",
       "      <th>58473</th>\n",
       "      <td>/organization/magnet-tech-ç£ç³ç§æ</td>\n",
       "      <td>/funding-round/8fc91fbb32bc95e97f151dd0cb4166bf</td>\n",
       "      <td>seed</td>\n",
       "      <td>NaN</td>\n",
       "      <td>16-08-2014</td>\n",
       "      <td>1625585.0</td>\n",
       "    </tr>\n",
       "    <tr>\n",
       "      <th>101036</th>\n",
       "      <td>/organization/tipcat-interactive-æ²èÿä¿¡æ¯ç...</td>\n",
       "      <td>/funding-round/41005928a1439cb2d706a43cb661f60f</td>\n",
       "      <td>seed</td>\n",
       "      <td>NaN</td>\n",
       "      <td>06-09-2010</td>\n",
       "      <td>NaN</td>\n",
       "    </tr>\n",
       "    <tr>\n",
       "      <th>109969</th>\n",
       "      <td>/organization/weiche-tech-åè½¦ç§æ</td>\n",
       "      <td>/funding-round/f74e457f838b81fa0b29649740f186d8</td>\n",
       "      <td>venture</td>\n",
       "      <td>A</td>\n",
       "      <td>06-09-2015</td>\n",
       "      <td>NaN</td>\n",
       "    </tr>\n",
       "    <tr>\n",
       "      <th>113839</th>\n",
       "      <td>/organization/zengame-ç¦",
       "æ¸¸ç§æ</td>\n",
       "      <td>/funding-round/6ba28fb4f3eadf5a9c6c81bc5dde6cdf</td>\n",
       "      <td>seed</td>\n",
       "      <td>NaN</td>\n",
       "      <td>17-07-2010</td>\n",
       "      <td>NaN</td>\n",
       "    </tr>\n",
       "  </tbody>\n",
       "</table>\n",
       "</div>"
      ],
      "text/plain": [
       "                                        company_permalink  \\\n",
       "29597                             /organization/e-cãbica   \n",
       "31863        /organization/energystone-games-çµç³æ¸¸æ   \n",
       "45176                /organization/huizuche-com-æ ç§ÿè½¦   \n",
       "58473              /organization/magnet-tech-ç£ç³ç§æ   \n",
       "101036  /organization/tipcat-interactive-æ²èÿä¿¡æ¯ç...   \n",
       "109969             /organization/weiche-tech-åè½¦ç§æ   \n",
       "113839                 /organization/zengame-ç¦\n",
       "æ¸¸ç§æ   \n",
       "\n",
       "                                funding_round_permalink funding_round_type  \\\n",
       "29597   /funding-round/8491f74869e4fe8ba9c378394f8fbdea               seed   \n",
       "31863   /funding-round/b89553f3d2279c5683ae93f45a21cfe0               seed   \n",
       "45176   /funding-round/8f8a32dbeeb0f831a78702f83af78a36               seed   \n",
       "58473   /funding-round/8fc91fbb32bc95e97f151dd0cb4166bf               seed   \n",
       "101036  /funding-round/41005928a1439cb2d706a43cb661f60f               seed   \n",
       "109969  /funding-round/f74e457f838b81fa0b29649740f186d8            venture   \n",
       "113839  /funding-round/6ba28fb4f3eadf5a9c6c81bc5dde6cdf               seed   \n",
       "\n",
       "       funding_round_code   funded_at  raised_amount_usd  \n",
       "29597                 NaN  01-02-2015                NaN  \n",
       "31863                 NaN  09-08-2014                NaN  \n",
       "45176                 NaN  18-09-2014                NaN  \n",
       "58473                 NaN  16-08-2014          1625585.0  \n",
       "101036                NaN  06-09-2010                NaN  \n",
       "109969                  A  06-09-2015                NaN  \n",
       "113839                NaN  17-07-2010                NaN  "
      ]
     },
     "execution_count": 749,
     "metadata": {},
     "output_type": "execute_result"
    }
   ],
   "source": [
    "# find companies in rounds2 which are not present in list of companies\n",
    "rounds2.loc[~rounds2.company_permalink.isin(company_list),:]"
   ]
  },
  {
   "cell_type": "code",
   "execution_count": 750,
   "metadata": {
    "collapsed": false
   },
   "outputs": [
    {
     "data": {
      "text/html": [
       "<div>\n",
       "<style>\n",
       "    .dataframe thead tr:only-child th {\n",
       "        text-align: right;\n",
       "    }\n",
       "\n",
       "    .dataframe thead th {\n",
       "        text-align: left;\n",
       "    }\n",
       "\n",
       "    .dataframe tbody tr th {\n",
       "        vertical-align: top;\n",
       "    }\n",
       "</style>\n",
       "<table border=\"1\" class=\"dataframe\">\n",
       "  <thead>\n",
       "    <tr style=\"text-align: right;\">\n",
       "      <th></th>\n",
       "      <th>permalink</th>\n",
       "      <th>name</th>\n",
       "      <th>homepage_url</th>\n",
       "      <th>category_list</th>\n",
       "      <th>status</th>\n",
       "      <th>country_code</th>\n",
       "      <th>company_permalink</th>\n",
       "      <th>funding_round_permalink</th>\n",
       "      <th>funding_round_type</th>\n",
       "      <th>funding_round_code</th>\n",
       "      <th>funded_at</th>\n",
       "      <th>raised_amount_usd</th>\n",
       "    </tr>\n",
       "  </thead>\n",
       "  <tbody>\n",
       "    <tr>\n",
       "      <th>0</th>\n",
       "      <td>/organization/-fame</td>\n",
       "      <td>#fame</td>\n",
       "      <td>http://livfame.com</td>\n",
       "      <td>Media</td>\n",
       "      <td>operating</td>\n",
       "      <td>IND</td>\n",
       "      <td>/organization/-fame</td>\n",
       "      <td>/funding-round/9a01d05418af9f794eebff7ace91f638</td>\n",
       "      <td>venture</td>\n",
       "      <td>B</td>\n",
       "      <td>05-01-2015</td>\n",
       "      <td>10000000.0</td>\n",
       "    </tr>\n",
       "    <tr>\n",
       "      <th>1</th>\n",
       "      <td>/organization/-qounter</td>\n",
       "      <td>:Qounter</td>\n",
       "      <td>http://www.qounter.com</td>\n",
       "      <td>Application Platforms|Real Time|Social Network...</td>\n",
       "      <td>operating</td>\n",
       "      <td>USA</td>\n",
       "      <td>/organization/-qounter</td>\n",
       "      <td>/funding-round/22dacff496eb7acb2b901dec1dfe5633</td>\n",
       "      <td>venture</td>\n",
       "      <td>A</td>\n",
       "      <td>14-10-2014</td>\n",
       "      <td>NaN</td>\n",
       "    </tr>\n",
       "    <tr>\n",
       "      <th>2</th>\n",
       "      <td>/organization/-qounter</td>\n",
       "      <td>:Qounter</td>\n",
       "      <td>http://www.qounter.com</td>\n",
       "      <td>Application Platforms|Real Time|Social Network...</td>\n",
       "      <td>operating</td>\n",
       "      <td>USA</td>\n",
       "      <td>/organization/-qounter</td>\n",
       "      <td>/funding-round/b44fbb94153f6cdef13083530bb48030</td>\n",
       "      <td>seed</td>\n",
       "      <td>NaN</td>\n",
       "      <td>01-03-2014</td>\n",
       "      <td>700000.0</td>\n",
       "    </tr>\n",
       "    <tr>\n",
       "      <th>3</th>\n",
       "      <td>/organization/-the-one-of-them-inc-</td>\n",
       "      <td>(THE) ONE of THEM,Inc.</td>\n",
       "      <td>http://oneofthem.jp</td>\n",
       "      <td>Apps|Games|Mobile</td>\n",
       "      <td>operating</td>\n",
       "      <td>NaN</td>\n",
       "      <td>/organization/-the-one-of-them-inc-</td>\n",
       "      <td>/funding-round/650b8f704416801069bb178a1418776b</td>\n",
       "      <td>venture</td>\n",
       "      <td>B</td>\n",
       "      <td>30-01-2014</td>\n",
       "      <td>3406878.0</td>\n",
       "    </tr>\n",
       "    <tr>\n",
       "      <th>4</th>\n",
       "      <td>/organization/0-6-com</td>\n",
       "      <td>0-6.com</td>\n",
       "      <td>http://www.0-6.com</td>\n",
       "      <td>Curated Web</td>\n",
       "      <td>operating</td>\n",
       "      <td>CHN</td>\n",
       "      <td>/organization/0-6-com</td>\n",
       "      <td>/funding-round/5727accaeaa57461bd22a9bdd945382d</td>\n",
       "      <td>venture</td>\n",
       "      <td>A</td>\n",
       "      <td>19-03-2008</td>\n",
       "      <td>2000000.0</td>\n",
       "    </tr>\n",
       "  </tbody>\n",
       "</table>\n",
       "</div>"
      ],
      "text/plain": [
       "                             permalink                    name  \\\n",
       "0                  /organization/-fame                   #fame   \n",
       "1               /organization/-qounter                :Qounter   \n",
       "2               /organization/-qounter                :Qounter   \n",
       "3  /organization/-the-one-of-them-inc-  (THE) ONE of THEM,Inc.   \n",
       "4                /organization/0-6-com                 0-6.com   \n",
       "\n",
       "             homepage_url                                      category_list  \\\n",
       "0      http://livfame.com                                              Media   \n",
       "1  http://www.qounter.com  Application Platforms|Real Time|Social Network...   \n",
       "2  http://www.qounter.com  Application Platforms|Real Time|Social Network...   \n",
       "3     http://oneofthem.jp                                  Apps|Games|Mobile   \n",
       "4      http://www.0-6.com                                        Curated Web   \n",
       "\n",
       "      status country_code                    company_permalink  \\\n",
       "0  operating          IND                  /organization/-fame   \n",
       "1  operating          USA               /organization/-qounter   \n",
       "2  operating          USA               /organization/-qounter   \n",
       "3  operating          NaN  /organization/-the-one-of-them-inc-   \n",
       "4  operating          CHN                /organization/0-6-com   \n",
       "\n",
       "                           funding_round_permalink funding_round_type  \\\n",
       "0  /funding-round/9a01d05418af9f794eebff7ace91f638            venture   \n",
       "1  /funding-round/22dacff496eb7acb2b901dec1dfe5633            venture   \n",
       "2  /funding-round/b44fbb94153f6cdef13083530bb48030               seed   \n",
       "3  /funding-round/650b8f704416801069bb178a1418776b            venture   \n",
       "4  /funding-round/5727accaeaa57461bd22a9bdd945382d            venture   \n",
       "\n",
       "  funding_round_code   funded_at  raised_amount_usd  \n",
       "0                  B  05-01-2015         10000000.0  \n",
       "1                  A  14-10-2014                NaN  \n",
       "2                NaN  01-03-2014           700000.0  \n",
       "3                  B  30-01-2014          3406878.0  \n",
       "4                  A  19-03-2008          2000000.0  "
      ]
     },
     "execution_count": 750,
     "metadata": {},
     "output_type": "execute_result"
    }
   ],
   "source": [
    "master_frame.head()"
   ]
  },
  {
   "cell_type": "markdown",
   "metadata": {},
   "source": [
    "## Checkpoint 2: Funding Type Analysis\n",
    "We need to analyze funding type most suitable for investment by Spark Fund's. Specifically we are interested in\n",
    "the following four investment types: seed, angel, venture and private equity. A brief description of these investment types is as below:\n",
    "* **Seed/angel** funding refer to early stage startups whereas **venture** funding occurs after seed or angel stage/s and involves a relatively higher amount of investment.\n",
    "* **Private equity** type investments are associated with much larger companies and involve much higher investments than venture type. Startups which have grown in scale may also receive private equity funding. This means that if a company has reached the venture stage, it would have already passed through the angel or seed stage/s\n"
   ]
  },
  {
   "cell_type": "code",
   "execution_count": 836,
   "metadata": {
    "collapsed": false
   },
   "outputs": [],
   "source": [
    "# find the mean of funding amount grouped by funding_round_type\n",
    "funding_round_type_mean = master_frame.groupby('funding_round_type').raised_amount_usd.mean().astype('int')"
   ]
  },
  {
   "cell_type": "code",
   "execution_count": 838,
   "metadata": {
    "collapsed": false
   },
   "outputs": [
    {
     "data": {
      "text/plain": [
       "funding_round_type\n",
       "post_ipo_debt            168.704571\n",
       "post_ipo_equity           82.182493\n",
       "secondary_market          79.649630\n",
       "private_equity            73.308593\n",
       "undisclosed               19.242370\n",
       "debt_financing            17.043526\n",
       "venture                   11.748949\n",
       "grant                      4.300576\n",
       "convertible_note           1.453438\n",
       "product_crowdfunding       1.363131\n",
       "angel                      0.958694\n",
       "seed                       0.719779\n",
       "equity_crowdfunding        0.538368\n",
       "non_equity_assistance      0.411203\n",
       "Name: raised_amount_usd, dtype: float64"
      ]
     },
     "execution_count": 838,
     "metadata": {},
     "output_type": "execute_result"
    }
   ],
   "source": [
    "# sort funding values in descending order\n",
    "# convert into millions ( 1 million = 1000000)\n",
    "funding_round_type_mean.sort_values(ascending=False)*10**-6"
   ]
  },
  {
   "cell_type": "markdown",
   "metadata": {},
   "source": [
    "From the average investment across various funding types above it is clear that it is the **venture** investment type which is between 5 and 15 million which is most suitable for them."
   ]
  },
  {
   "cell_type": "code",
   "execution_count": 839,
   "metadata": {
    "collapsed": true
   },
   "outputs": [],
   "source": [
    "# let us also check the median investment across funding types\n",
    "funding_round_type_median = master_frame.groupby('funding_round_type').raised_amount_usd.median().astype('int')"
   ]
  },
  {
   "cell_type": "code",
   "execution_count": 840,
   "metadata": {
    "collapsed": false
   },
   "outputs": [
    {
     "data": {
      "text/plain": [
       "funding_round_type\n",
       "secondary_market         32.600000\n",
       "private_equity           20.000000\n",
       "post_ipo_debt            19.950000\n",
       "post_ipo_equity          12.262852\n",
       "venture                   5.000000\n",
       "debt_financing            1.100000\n",
       "undisclosed               1.018680\n",
       "angel                     0.400000\n",
       "seed                      0.275000\n",
       "convertible_note          0.272000\n",
       "grant                     0.201684\n",
       "product_crowdfunding      0.183915\n",
       "equity_crowdfunding       0.100000\n",
       "non_equity_assistance     0.060000\n",
       "Name: raised_amount_usd, dtype: float64"
      ]
     },
     "execution_count": 840,
     "metadata": {},
     "output_type": "execute_result"
    }
   ],
   "source": [
    "# sort funding values in descending order\n",
    "# convert into millions ( 1 million = 1000000)\n",
    "funding_round_type_median.sort_values(ascending=False)*10**-6"
   ]
  },
  {
   "cell_type": "markdown",
   "metadata": {},
   "source": [
    "from median view also it's clear that across four funding types seed, angel, venture and private equity - **venture** is most suitable for investment by Spark Funds' considering investment bucket of between 5 to 15 million."
   ]
  },
  {
   "cell_type": "markdown",
   "metadata": {},
   "source": [
    "## Checkpoint 3: Country Analysis\n",
    "let us check the top 9 countries where investments are happening for funding type - venture"
   ]
  },
  {
   "cell_type": "code",
   "execution_count": 755,
   "metadata": {
    "collapsed": false
   },
   "outputs": [],
   "source": [
    "# extract top 9 countries based on funding type 'venture'\n",
    "top9 = master_frame.loc[master_frame.funding_round_type=='venture',:].groupby('country_code')"
   ]
  },
  {
   "cell_type": "code",
   "execution_count": 756,
   "metadata": {
    "collapsed": false
   },
   "outputs": [],
   "source": [
    "# find the sum of investments happening for each country\n",
    "top9 = top9.raised_amount_usd.sum()"
   ]
  },
  {
   "cell_type": "code",
   "execution_count": 757,
   "metadata": {
    "collapsed": false
   },
   "outputs": [],
   "source": [
    "# sort the countries based on investment amount (descending)\n",
    "top9 = top9.sort_values(ascending=False)*10**-6"
   ]
  },
  {
   "cell_type": "code",
   "execution_count": 758,
   "metadata": {
    "collapsed": false
   },
   "outputs": [],
   "source": [
    "# extract the top 9 investment destinations\n",
    "top9 = top9.iloc[:9]"
   ]
  },
  {
   "cell_type": "code",
   "execution_count": 759,
   "metadata": {
    "collapsed": false
   },
   "outputs": [
    {
     "data": {
      "text/plain": [
       "country_code\n",
       "USA    422510.842796\n",
       "CHN     39835.418773\n",
       "GBR     20245.627416\n",
       "IND     14391.858718\n",
       "CAN      9583.332317\n",
       "FRA      7259.536732\n",
       "ISR      6907.514579\n",
       "DEU      6346.959822\n",
       "JPN      3363.676611\n",
       "Name: raised_amount_usd, dtype: float64"
      ]
     },
     "execution_count": 759,
     "metadata": {},
     "output_type": "execute_result"
    }
   ],
   "source": [
    "# check the top 9 country based on total investment for funding type 'venture'\n",
    "top9"
   ]
  },
  {
   "cell_type": "code",
   "execution_count": 760,
   "metadata": {
    "collapsed": true
   },
   "outputs": [],
   "source": [
    "# let us create an new column name 'country' to hold country name\n",
    "master_frame['country']= np.NAN"
   ]
  },
  {
   "cell_type": "code",
   "execution_count": 761,
   "metadata": {
    "collapsed": true
   },
   "outputs": [],
   "source": [
    "# let us set the country names for top 9 countries\n",
    "master_frame.loc[master_frame.country_code=='USA','country']='United States'\n",
    "master_frame.loc[master_frame.country_code=='GBR','country']='United Kingdom'\n",
    "master_frame.loc[master_frame.country_code=='CHN','country']='China'\n",
    "master_frame.loc[master_frame.country_code=='IND','country']='India'\n",
    "master_frame.loc[master_frame.country_code=='CAN','country']='Canada'\n",
    "master_frame.loc[master_frame.country_code=='FRA','country']='France'\n",
    "master_frame.loc[master_frame.country_code=='ISR','country']='Israel'\n",
    "master_frame.loc[master_frame.country_code=='DEU','country']='Denmark'\n",
    "master_frame.loc[master_frame.country_code=='JPN','country']='Japan'"
   ]
  },
  {
   "cell_type": "markdown",
   "metadata": {},
   "source": [
    "Inspecting the Countries_where_English_is_an_official_language.pdf provided we can see that out of the top 9 investment destination countries **United States**,**United Kingdom** and **India** are the top 3 countries where english is official language."
   ]
  },
  {
   "cell_type": "code",
   "execution_count": 762,
   "metadata": {
    "collapsed": false
   },
   "outputs": [],
   "source": [
    "# let us access the impact the missing investment amount, by assuming we replace missing values by median investment value\n",
    "missing = len(master_frame.loc[master_frame.raised_amount_usd.isnull(),'raised_amount_usd'])*(master_frame.raised_amount_usd.median())"
   ]
  },
  {
   "cell_type": "code",
   "execution_count": 763,
   "metadata": {
    "collapsed": false
   },
   "outputs": [
    {
     "data": {
      "text/plain": [
       "3.2805804739277744"
      ]
     },
     "execution_count": 763,
     "metadata": {},
     "output_type": "execute_result"
    }
   ],
   "source": [
    "100*(missing/(missing+master_frame.raised_amount_usd.sum()))"
   ]
  },
  {
   "cell_type": "markdown",
   "metadata": {},
   "source": [
    "we can see that only about 3.3% of investment amount seems to be impacted because of missing investment values. we decide to remove rowss where investment amount is missing."
   ]
  },
  {
   "cell_type": "code",
   "execution_count": 764,
   "metadata": {
    "collapsed": true
   },
   "outputs": [],
   "source": [
    "# remove all those rows where funded amount information is not available\n",
    "master_frame = master_frame.loc[~master_frame.raised_amount_usd.isnull()]"
   ]
  },
  {
   "cell_type": "code",
   "execution_count": 765,
   "metadata": {
    "collapsed": false
   },
   "outputs": [],
   "source": [
    "# let us also remove the rows where country is missing or where category list is missing. \n",
    "master_frame = master_frame[~(master_frame.category_list.isnull()|master_frame.country_code.isnull())]"
   ]
  },
  {
   "cell_type": "code",
   "execution_count": 766,
   "metadata": {
    "collapsed": false
   },
   "outputs": [
    {
     "data": {
      "text/html": [
       "<div>\n",
       "<style>\n",
       "    .dataframe thead tr:only-child th {\n",
       "        text-align: right;\n",
       "    }\n",
       "\n",
       "    .dataframe thead th {\n",
       "        text-align: left;\n",
       "    }\n",
       "\n",
       "    .dataframe tbody tr th {\n",
       "        vertical-align: top;\n",
       "    }\n",
       "</style>\n",
       "<table border=\"1\" class=\"dataframe\">\n",
       "  <thead>\n",
       "    <tr style=\"text-align: right;\">\n",
       "      <th></th>\n",
       "      <th>permalink</th>\n",
       "      <th>name</th>\n",
       "      <th>homepage_url</th>\n",
       "      <th>category_list</th>\n",
       "      <th>status</th>\n",
       "      <th>country_code</th>\n",
       "      <th>company_permalink</th>\n",
       "      <th>funding_round_permalink</th>\n",
       "      <th>funding_round_type</th>\n",
       "      <th>funding_round_code</th>\n",
       "      <th>funded_at</th>\n",
       "      <th>raised_amount_usd</th>\n",
       "      <th>country</th>\n",
       "    </tr>\n",
       "  </thead>\n",
       "  <tbody>\n",
       "    <tr>\n",
       "      <th>0</th>\n",
       "      <td>/organization/-fame</td>\n",
       "      <td>#fame</td>\n",
       "      <td>http://livfame.com</td>\n",
       "      <td>Media</td>\n",
       "      <td>operating</td>\n",
       "      <td>IND</td>\n",
       "      <td>/organization/-fame</td>\n",
       "      <td>/funding-round/9a01d05418af9f794eebff7ace91f638</td>\n",
       "      <td>venture</td>\n",
       "      <td>B</td>\n",
       "      <td>05-01-2015</td>\n",
       "      <td>10000000.0</td>\n",
       "      <td>India</td>\n",
       "    </tr>\n",
       "    <tr>\n",
       "      <th>2</th>\n",
       "      <td>/organization/-qounter</td>\n",
       "      <td>:Qounter</td>\n",
       "      <td>http://www.qounter.com</td>\n",
       "      <td>Application Platforms|Real Time|Social Network...</td>\n",
       "      <td>operating</td>\n",
       "      <td>USA</td>\n",
       "      <td>/organization/-qounter</td>\n",
       "      <td>/funding-round/b44fbb94153f6cdef13083530bb48030</td>\n",
       "      <td>seed</td>\n",
       "      <td>NaN</td>\n",
       "      <td>01-03-2014</td>\n",
       "      <td>700000.0</td>\n",
       "      <td>United States</td>\n",
       "    </tr>\n",
       "    <tr>\n",
       "      <th>4</th>\n",
       "      <td>/organization/0-6-com</td>\n",
       "      <td>0-6.com</td>\n",
       "      <td>http://www.0-6.com</td>\n",
       "      <td>Curated Web</td>\n",
       "      <td>operating</td>\n",
       "      <td>CHN</td>\n",
       "      <td>/organization/0-6-com</td>\n",
       "      <td>/funding-round/5727accaeaa57461bd22a9bdd945382d</td>\n",
       "      <td>venture</td>\n",
       "      <td>A</td>\n",
       "      <td>19-03-2008</td>\n",
       "      <td>2000000.0</td>\n",
       "      <td>China</td>\n",
       "    </tr>\n",
       "    <tr>\n",
       "      <th>6</th>\n",
       "      <td>/organization/01games-technology</td>\n",
       "      <td>01Games Technology</td>\n",
       "      <td>http://www.01games.hk/</td>\n",
       "      <td>Games</td>\n",
       "      <td>operating</td>\n",
       "      <td>HKG</td>\n",
       "      <td>/organization/01games-technology</td>\n",
       "      <td>/funding-round/7d53696f2b4f607a2f2a8cbb83d01839</td>\n",
       "      <td>undisclosed</td>\n",
       "      <td>NaN</td>\n",
       "      <td>01-07-2014</td>\n",
       "      <td>41250.0</td>\n",
       "      <td>NaN</td>\n",
       "    </tr>\n",
       "    <tr>\n",
       "      <th>7</th>\n",
       "      <td>/organization/0ndine-biomedical-inc</td>\n",
       "      <td>Ondine Biomedical Inc.</td>\n",
       "      <td>http://ondinebio.com</td>\n",
       "      <td>Biotechnology</td>\n",
       "      <td>operating</td>\n",
       "      <td>CAN</td>\n",
       "      <td>/organization/0ndine-biomedical-inc</td>\n",
       "      <td>/funding-round/2b9d3ac293d5cdccbecff5c8cb0f327d</td>\n",
       "      <td>seed</td>\n",
       "      <td>NaN</td>\n",
       "      <td>11-09-2009</td>\n",
       "      <td>43360.0</td>\n",
       "      <td>Canada</td>\n",
       "    </tr>\n",
       "  </tbody>\n",
       "</table>\n",
       "</div>"
      ],
      "text/plain": [
       "                             permalink                    name  \\\n",
       "0                  /organization/-fame                   #fame   \n",
       "2               /organization/-qounter                :Qounter   \n",
       "4                /organization/0-6-com                 0-6.com   \n",
       "6     /organization/01games-technology      01Games Technology   \n",
       "7  /organization/0ndine-biomedical-inc  Ondine Biomedical Inc.   \n",
       "\n",
       "             homepage_url                                      category_list  \\\n",
       "0      http://livfame.com                                              Media   \n",
       "2  http://www.qounter.com  Application Platforms|Real Time|Social Network...   \n",
       "4      http://www.0-6.com                                        Curated Web   \n",
       "6  http://www.01games.hk/                                              Games   \n",
       "7    http://ondinebio.com                                      Biotechnology   \n",
       "\n",
       "      status country_code                    company_permalink  \\\n",
       "0  operating          IND                  /organization/-fame   \n",
       "2  operating          USA               /organization/-qounter   \n",
       "4  operating          CHN                /organization/0-6-com   \n",
       "6  operating          HKG     /organization/01games-technology   \n",
       "7  operating          CAN  /organization/0ndine-biomedical-inc   \n",
       "\n",
       "                           funding_round_permalink funding_round_type  \\\n",
       "0  /funding-round/9a01d05418af9f794eebff7ace91f638            venture   \n",
       "2  /funding-round/b44fbb94153f6cdef13083530bb48030               seed   \n",
       "4  /funding-round/5727accaeaa57461bd22a9bdd945382d            venture   \n",
       "6  /funding-round/7d53696f2b4f607a2f2a8cbb83d01839        undisclosed   \n",
       "7  /funding-round/2b9d3ac293d5cdccbecff5c8cb0f327d               seed   \n",
       "\n",
       "  funding_round_code   funded_at  raised_amount_usd        country  \n",
       "0                  B  05-01-2015         10000000.0          India  \n",
       "2                NaN  01-03-2014           700000.0  United States  \n",
       "4                  A  19-03-2008          2000000.0          China  \n",
       "6                NaN  01-07-2014            41250.0            NaN  \n",
       "7                NaN  11-09-2009            43360.0         Canada  "
      ]
     },
     "execution_count": 766,
     "metadata": {},
     "output_type": "execute_result"
    }
   ],
   "source": [
    "master_frame.head()"
   ]
  },
  {
   "cell_type": "markdown",
   "metadata": {},
   "source": [
    "## Checkpoint 4: Sector Analysis 1\n",
    "In this section we will map the numerous category list to one of the eight sectors listed in mapping.csv provided."
   ]
  },
  {
   "cell_type": "code",
   "execution_count": 767,
   "metadata": {
    "collapsed": false
   },
   "outputs": [],
   "source": [
    "# load category list and sector mapping\n",
    "mapping = pd.read_csv('./SourceData/mapping.csv')"
   ]
  },
  {
   "cell_type": "code",
   "execution_count": 768,
   "metadata": {
    "collapsed": false
   },
   "outputs": [
    {
     "data": {
      "text/plain": [
       "category_list                              0.145349\n",
       "Automotive & Sports                        0.000000\n",
       "Blanks                                     0.000000\n",
       "Cleantech / Semiconductors                 0.000000\n",
       "Entertainment                              0.000000\n",
       "Health                                     0.000000\n",
       "Manufacturing                              0.000000\n",
       "News, Search and Messaging                 0.000000\n",
       "Others                                     0.000000\n",
       "Social, Finance, Analytics, Advertising    0.000000\n",
       "dtype: float64"
      ]
     },
     "execution_count": 768,
     "metadata": {},
     "output_type": "execute_result"
    }
   ],
   "source": [
    "# let's check if there are any missing values in mapping data frame\n",
    "100*(mapping.isnull().sum()/len(mapping.index))"
   ]
  },
  {
   "cell_type": "code",
   "execution_count": 769,
   "metadata": {
    "collapsed": false
   },
   "outputs": [
    {
     "data": {
      "text/html": [
       "<div>\n",
       "<style>\n",
       "    .dataframe thead tr:only-child th {\n",
       "        text-align: right;\n",
       "    }\n",
       "\n",
       "    .dataframe thead th {\n",
       "        text-align: left;\n",
       "    }\n",
       "\n",
       "    .dataframe tbody tr th {\n",
       "        vertical-align: top;\n",
       "    }\n",
       "</style>\n",
       "<table border=\"1\" class=\"dataframe\">\n",
       "  <thead>\n",
       "    <tr style=\"text-align: right;\">\n",
       "      <th></th>\n",
       "      <th>category_list</th>\n",
       "      <th>Automotive &amp; Sports</th>\n",
       "      <th>Blanks</th>\n",
       "      <th>Cleantech / Semiconductors</th>\n",
       "      <th>Entertainment</th>\n",
       "      <th>Health</th>\n",
       "      <th>Manufacturing</th>\n",
       "      <th>News, Search and Messaging</th>\n",
       "      <th>Others</th>\n",
       "      <th>Social, Finance, Analytics, Advertising</th>\n",
       "    </tr>\n",
       "  </thead>\n",
       "  <tbody>\n",
       "    <tr>\n",
       "      <th>0</th>\n",
       "      <td>NaN</td>\n",
       "      <td>0</td>\n",
       "      <td>1</td>\n",
       "      <td>0</td>\n",
       "      <td>0</td>\n",
       "      <td>0</td>\n",
       "      <td>0</td>\n",
       "      <td>0</td>\n",
       "      <td>0</td>\n",
       "      <td>0</td>\n",
       "    </tr>\n",
       "    <tr>\n",
       "      <th>1</th>\n",
       "      <td>3D</td>\n",
       "      <td>0</td>\n",
       "      <td>0</td>\n",
       "      <td>0</td>\n",
       "      <td>0</td>\n",
       "      <td>0</td>\n",
       "      <td>1</td>\n",
       "      <td>0</td>\n",
       "      <td>0</td>\n",
       "      <td>0</td>\n",
       "    </tr>\n",
       "    <tr>\n",
       "      <th>2</th>\n",
       "      <td>3D Printing</td>\n",
       "      <td>0</td>\n",
       "      <td>0</td>\n",
       "      <td>0</td>\n",
       "      <td>0</td>\n",
       "      <td>0</td>\n",
       "      <td>1</td>\n",
       "      <td>0</td>\n",
       "      <td>0</td>\n",
       "      <td>0</td>\n",
       "    </tr>\n",
       "    <tr>\n",
       "      <th>3</th>\n",
       "      <td>3D Technology</td>\n",
       "      <td>0</td>\n",
       "      <td>0</td>\n",
       "      <td>0</td>\n",
       "      <td>0</td>\n",
       "      <td>0</td>\n",
       "      <td>1</td>\n",
       "      <td>0</td>\n",
       "      <td>0</td>\n",
       "      <td>0</td>\n",
       "    </tr>\n",
       "    <tr>\n",
       "      <th>4</th>\n",
       "      <td>Accounting</td>\n",
       "      <td>0</td>\n",
       "      <td>0</td>\n",
       "      <td>0</td>\n",
       "      <td>0</td>\n",
       "      <td>0</td>\n",
       "      <td>0</td>\n",
       "      <td>0</td>\n",
       "      <td>0</td>\n",
       "      <td>1</td>\n",
       "    </tr>\n",
       "  </tbody>\n",
       "</table>\n",
       "</div>"
      ],
      "text/plain": [
       "   category_list  Automotive & Sports  Blanks  Cleantech / Semiconductors  \\\n",
       "0            NaN                    0       1                           0   \n",
       "1             3D                    0       0                           0   \n",
       "2    3D Printing                    0       0                           0   \n",
       "3  3D Technology                    0       0                           0   \n",
       "4     Accounting                    0       0                           0   \n",
       "\n",
       "   Entertainment  Health  Manufacturing  News, Search and Messaging  Others  \\\n",
       "0              0       0              0                           0       0   \n",
       "1              0       0              1                           0       0   \n",
       "2              0       0              1                           0       0   \n",
       "3              0       0              1                           0       0   \n",
       "4              0       0              0                           0       0   \n",
       "\n",
       "   Social, Finance, Analytics, Advertising  \n",
       "0                                        0  \n",
       "1                                        0  \n",
       "2                                        0  \n",
       "3                                        0  \n",
       "4                                        1  "
      ]
     },
     "execution_count": 769,
     "metadata": {},
     "output_type": "execute_result"
    }
   ],
   "source": [
    "# inspect the mapping data\n",
    "mapping.head()"
   ]
  },
  {
   "cell_type": "markdown",
   "metadata": {},
   "source": [
    "We see that the data frame is in wide format for better analysis let us convert to long format and create a new data frame named **sector**"
   ]
  },
  {
   "cell_type": "code",
   "execution_count": 770,
   "metadata": {
    "collapsed": false
   },
   "outputs": [],
   "source": [
    "# we see that mapping is in wide format, let us convert to long format\n",
    "sector = pd.melt(mapping,id_vars =['category_list'],value_vars=['Automotive & Sports','Blanks','Cleantech / Semiconductors','Entertainment','Health','Manufacturing','News, Search and Messaging',\n",
    "                                                                   'Others','Social, Finance, Analytics, Advertising']).copy()"
   ]
  },
  {
   "cell_type": "code",
   "execution_count": 771,
   "metadata": {
    "collapsed": true
   },
   "outputs": [],
   "source": [
    "# remove all those rows where main_sector is not applicable (value=0)\n",
    "sector = sector[sector.value==1]"
   ]
  },
  {
   "cell_type": "code",
   "execution_count": 772,
   "metadata": {
    "collapsed": false
   },
   "outputs": [
    {
     "data": {
      "text/html": [
       "<div>\n",
       "<style>\n",
       "    .dataframe thead tr:only-child th {\n",
       "        text-align: right;\n",
       "    }\n",
       "\n",
       "    .dataframe thead th {\n",
       "        text-align: left;\n",
       "    }\n",
       "\n",
       "    .dataframe tbody tr th {\n",
       "        vertical-align: top;\n",
       "    }\n",
       "</style>\n",
       "<table border=\"1\" class=\"dataframe\">\n",
       "  <thead>\n",
       "    <tr style=\"text-align: right;\">\n",
       "      <th></th>\n",
       "      <th>category_list</th>\n",
       "      <th>variable</th>\n",
       "      <th>value</th>\n",
       "    </tr>\n",
       "  </thead>\n",
       "  <tbody>\n",
       "    <tr>\n",
       "      <th>8</th>\n",
       "      <td>Adventure Travel</td>\n",
       "      <td>Automotive &amp; Sports</td>\n",
       "      <td>1</td>\n",
       "    </tr>\n",
       "    <tr>\n",
       "      <th>14</th>\n",
       "      <td>Aerospace</td>\n",
       "      <td>Automotive &amp; Sports</td>\n",
       "      <td>1</td>\n",
       "    </tr>\n",
       "    <tr>\n",
       "      <th>45</th>\n",
       "      <td>Auto</td>\n",
       "      <td>Automotive &amp; Sports</td>\n",
       "      <td>1</td>\n",
       "    </tr>\n",
       "    <tr>\n",
       "      <th>46</th>\n",
       "      <td>Automated Kiosk</td>\n",
       "      <td>Automotive &amp; Sports</td>\n",
       "      <td>1</td>\n",
       "    </tr>\n",
       "    <tr>\n",
       "      <th>47</th>\n",
       "      <td>Automotive</td>\n",
       "      <td>Automotive &amp; Sports</td>\n",
       "      <td>1</td>\n",
       "    </tr>\n",
       "    <tr>\n",
       "      <th>57</th>\n",
       "      <td>Bicycles</td>\n",
       "      <td>Automotive &amp; Sports</td>\n",
       "      <td>1</td>\n",
       "    </tr>\n",
       "    <tr>\n",
       "      <th>69</th>\n",
       "      <td>Boating Industry</td>\n",
       "      <td>Automotive &amp; Sports</td>\n",
       "      <td>1</td>\n",
       "    </tr>\n",
       "    <tr>\n",
       "      <th>87</th>\n",
       "      <td>CAD</td>\n",
       "      <td>Automotive &amp; Sports</td>\n",
       "      <td>1</td>\n",
       "    </tr>\n",
       "    <tr>\n",
       "      <th>93</th>\n",
       "      <td>Cars</td>\n",
       "      <td>Automotive &amp; Sports</td>\n",
       "      <td>1</td>\n",
       "    </tr>\n",
       "    <tr>\n",
       "      <th>188</th>\n",
       "      <td>Design</td>\n",
       "      <td>Automotive &amp; Sports</td>\n",
       "      <td>1</td>\n",
       "    </tr>\n",
       "    <tr>\n",
       "      <th>189</th>\n",
       "      <td>Designers</td>\n",
       "      <td>Automotive &amp; Sports</td>\n",
       "      <td>1</td>\n",
       "    </tr>\n",
       "    <tr>\n",
       "      <th>213</th>\n",
       "      <td>Drones</td>\n",
       "      <td>Automotive &amp; Sports</td>\n",
       "      <td>1</td>\n",
       "    </tr>\n",
       "    <tr>\n",
       "      <th>226</th>\n",
       "      <td>Electric Vehicles</td>\n",
       "      <td>Automotive &amp; Sports</td>\n",
       "      <td>1</td>\n",
       "    </tr>\n",
       "    <tr>\n",
       "      <th>292</th>\n",
       "      <td>Fuels</td>\n",
       "      <td>Automotive &amp; Sports</td>\n",
       "      <td>1</td>\n",
       "    </tr>\n",
       "    <tr>\n",
       "      <th>331</th>\n",
       "      <td>Heavy Industry</td>\n",
       "      <td>Automotive &amp; Sports</td>\n",
       "      <td>1</td>\n",
       "    </tr>\n",
       "    <tr>\n",
       "      <th>364</th>\n",
       "      <td>Industrial Automation</td>\n",
       "      <td>Automotive &amp; Sports</td>\n",
       "      <td>1</td>\n",
       "    </tr>\n",
       "    <tr>\n",
       "      <th>409</th>\n",
       "      <td>Limousines</td>\n",
       "      <td>Automotive &amp; Sports</td>\n",
       "      <td>1</td>\n",
       "    </tr>\n",
       "    <tr>\n",
       "      <th>602</th>\n",
       "      <td>Soccer</td>\n",
       "      <td>Automotive &amp; Sports</td>\n",
       "      <td>1</td>\n",
       "    </tr>\n",
       "    <tr>\n",
       "      <th>626</th>\n",
       "      <td>Sporting Goods</td>\n",
       "      <td>Automotive &amp; Sports</td>\n",
       "      <td>1</td>\n",
       "    </tr>\n",
       "    <tr>\n",
       "      <th>627</th>\n",
       "      <td>Sports</td>\n",
       "      <td>Automotive &amp; Sports</td>\n",
       "      <td>1</td>\n",
       "    </tr>\n",
       "    <tr>\n",
       "      <th>652</th>\n",
       "      <td>Transportation</td>\n",
       "      <td>Automotive &amp; Sports</td>\n",
       "      <td>1</td>\n",
       "    </tr>\n",
       "    <tr>\n",
       "      <th>657</th>\n",
       "      <td>Unmanned Air Systems</td>\n",
       "      <td>Automotive &amp; Sports</td>\n",
       "      <td>1</td>\n",
       "    </tr>\n",
       "    <tr>\n",
       "      <th>688</th>\n",
       "      <td>NaN</td>\n",
       "      <td>Blanks</td>\n",
       "      <td>1</td>\n",
       "    </tr>\n",
       "    <tr>\n",
       "      <th>1392</th>\n",
       "      <td>Air Pollution Control</td>\n",
       "      <td>Cleantech / Semiconductors</td>\n",
       "      <td>1</td>\n",
       "    </tr>\n",
       "    <tr>\n",
       "      <th>1409</th>\n",
       "      <td>Aquaculture</td>\n",
       "      <td>Cleantech / Semiconductors</td>\n",
       "      <td>1</td>\n",
       "    </tr>\n",
       "    <tr>\n",
       "      <th>1437</th>\n",
       "      <td>Bio-Pharm</td>\n",
       "      <td>Cleantech / Semiconductors</td>\n",
       "      <td>1</td>\n",
       "    </tr>\n",
       "    <tr>\n",
       "      <th>1438</th>\n",
       "      <td>Biofuels</td>\n",
       "      <td>Cleantech / Semiconductors</td>\n",
       "      <td>1</td>\n",
       "    </tr>\n",
       "    <tr>\n",
       "      <th>1439</th>\n",
       "      <td>Bioinformatics</td>\n",
       "      <td>Cleantech / Semiconductors</td>\n",
       "      <td>1</td>\n",
       "    </tr>\n",
       "    <tr>\n",
       "      <th>1440</th>\n",
       "      <td>Biomass Power Generation</td>\n",
       "      <td>Cleantech / Semiconductors</td>\n",
       "      <td>1</td>\n",
       "    </tr>\n",
       "    <tr>\n",
       "      <th>1441</th>\n",
       "      <td>Biometrics</td>\n",
       "      <td>Cleantech / Semiconductors</td>\n",
       "      <td>1</td>\n",
       "    </tr>\n",
       "    <tr>\n",
       "      <th>...</th>\n",
       "      <td>...</td>\n",
       "      <td>...</td>\n",
       "      <td>...</td>\n",
       "    </tr>\n",
       "    <tr>\n",
       "      <th>6020</th>\n",
       "      <td>Perso0l Fi0nce</td>\n",
       "      <td>Social, Finance, Analytics, Advertising</td>\n",
       "      <td>1</td>\n",
       "    </tr>\n",
       "    <tr>\n",
       "      <th>6037</th>\n",
       "      <td>Pre Seed</td>\n",
       "      <td>Social, Finance, Analytics, Advertising</td>\n",
       "      <td>1</td>\n",
       "    </tr>\n",
       "    <tr>\n",
       "      <th>6038</th>\n",
       "      <td>Predictive A0lytics</td>\n",
       "      <td>Social, Finance, Analytics, Advertising</td>\n",
       "      <td>1</td>\n",
       "    </tr>\n",
       "    <tr>\n",
       "      <th>6040</th>\n",
       "      <td>Price Comparison</td>\n",
       "      <td>Social, Finance, Analytics, Advertising</td>\n",
       "      <td>1</td>\n",
       "    </tr>\n",
       "    <tr>\n",
       "      <th>6053</th>\n",
       "      <td>Promotio0l</td>\n",
       "      <td>Social, Finance, Analytics, Advertising</td>\n",
       "      <td>1</td>\n",
       "    </tr>\n",
       "    <tr>\n",
       "      <th>6054</th>\n",
       "      <td>Property Ma0gement</td>\n",
       "      <td>Social, Finance, Analytics, Advertising</td>\n",
       "      <td>1</td>\n",
       "    </tr>\n",
       "    <tr>\n",
       "      <th>6055</th>\n",
       "      <td>Public Relations</td>\n",
       "      <td>Social, Finance, Analytics, Advertising</td>\n",
       "      <td>1</td>\n",
       "    </tr>\n",
       "    <tr>\n",
       "      <th>6074</th>\n",
       "      <td>Retail</td>\n",
       "      <td>Social, Finance, Analytics, Advertising</td>\n",
       "      <td>1</td>\n",
       "    </tr>\n",
       "    <tr>\n",
       "      <th>6075</th>\n",
       "      <td>Retail Technology</td>\n",
       "      <td>Social, Finance, Analytics, Advertising</td>\n",
       "      <td>1</td>\n",
       "    </tr>\n",
       "    <tr>\n",
       "      <th>6079</th>\n",
       "      <td>Risk Ma0gement</td>\n",
       "      <td>Social, Finance, Analytics, Advertising</td>\n",
       "      <td>1</td>\n",
       "    </tr>\n",
       "    <tr>\n",
       "      <th>6082</th>\n",
       "      <td>Sales and Marketing</td>\n",
       "      <td>Social, Finance, Analytics, Advertising</td>\n",
       "      <td>1</td>\n",
       "    </tr>\n",
       "    <tr>\n",
       "      <th>6107</th>\n",
       "      <td>Social + Mobile + Local</td>\n",
       "      <td>Social, Finance, Analytics, Advertising</td>\n",
       "      <td>1</td>\n",
       "    </tr>\n",
       "    <tr>\n",
       "      <th>6108</th>\n",
       "      <td>Social Bookmarking</td>\n",
       "      <td>Social, Finance, Analytics, Advertising</td>\n",
       "      <td>1</td>\n",
       "    </tr>\n",
       "    <tr>\n",
       "      <th>6109</th>\n",
       "      <td>Social Business</td>\n",
       "      <td>Social, Finance, Analytics, Advertising</td>\n",
       "      <td>1</td>\n",
       "    </tr>\n",
       "    <tr>\n",
       "      <th>6110</th>\n",
       "      <td>Social Buying</td>\n",
       "      <td>Social, Finance, Analytics, Advertising</td>\n",
       "      <td>1</td>\n",
       "    </tr>\n",
       "    <tr>\n",
       "      <th>6111</th>\n",
       "      <td>Social Commerce</td>\n",
       "      <td>Social, Finance, Analytics, Advertising</td>\n",
       "      <td>1</td>\n",
       "    </tr>\n",
       "    <tr>\n",
       "      <th>6112</th>\n",
       "      <td>Social CRM</td>\n",
       "      <td>Social, Finance, Analytics, Advertising</td>\n",
       "      <td>1</td>\n",
       "    </tr>\n",
       "    <tr>\n",
       "      <th>6113</th>\n",
       "      <td>Social Fundraising</td>\n",
       "      <td>Social, Finance, Analytics, Advertising</td>\n",
       "      <td>1</td>\n",
       "    </tr>\n",
       "    <tr>\n",
       "      <th>6114</th>\n",
       "      <td>Social Games</td>\n",
       "      <td>Social, Finance, Analytics, Advertising</td>\n",
       "      <td>1</td>\n",
       "    </tr>\n",
       "    <tr>\n",
       "      <th>6115</th>\n",
       "      <td>Social Media</td>\n",
       "      <td>Social, Finance, Analytics, Advertising</td>\n",
       "      <td>1</td>\n",
       "    </tr>\n",
       "    <tr>\n",
       "      <th>6116</th>\n",
       "      <td>Social Media Ma0gement</td>\n",
       "      <td>Social, Finance, Analytics, Advertising</td>\n",
       "      <td>1</td>\n",
       "    </tr>\n",
       "    <tr>\n",
       "      <th>6117</th>\n",
       "      <td>Social Media Marketing</td>\n",
       "      <td>Social, Finance, Analytics, Advertising</td>\n",
       "      <td>1</td>\n",
       "    </tr>\n",
       "    <tr>\n",
       "      <th>6118</th>\n",
       "      <td>Social Media Platforms</td>\n",
       "      <td>Social, Finance, Analytics, Advertising</td>\n",
       "      <td>1</td>\n",
       "    </tr>\n",
       "    <tr>\n",
       "      <th>6119</th>\n",
       "      <td>Social Network Media</td>\n",
       "      <td>Social, Finance, Analytics, Advertising</td>\n",
       "      <td>1</td>\n",
       "    </tr>\n",
       "    <tr>\n",
       "      <th>6120</th>\n",
       "      <td>Social News</td>\n",
       "      <td>Social, Finance, Analytics, Advertising</td>\n",
       "      <td>1</td>\n",
       "    </tr>\n",
       "    <tr>\n",
       "      <th>6121</th>\n",
       "      <td>Social Recruiting</td>\n",
       "      <td>Social, Finance, Analytics, Advertising</td>\n",
       "      <td>1</td>\n",
       "    </tr>\n",
       "    <tr>\n",
       "      <th>6122</th>\n",
       "      <td>Social Television</td>\n",
       "      <td>Social, Finance, Analytics, Advertising</td>\n",
       "      <td>1</td>\n",
       "    </tr>\n",
       "    <tr>\n",
       "      <th>6123</th>\n",
       "      <td>Social Travel</td>\n",
       "      <td>Social, Finance, Analytics, Advertising</td>\n",
       "      <td>1</td>\n",
       "    </tr>\n",
       "    <tr>\n",
       "      <th>6134</th>\n",
       "      <td>Stock Exchanges</td>\n",
       "      <td>Social, Finance, Analytics, Advertising</td>\n",
       "      <td>1</td>\n",
       "    </tr>\n",
       "    <tr>\n",
       "      <th>6167</th>\n",
       "      <td>Venture Capital</td>\n",
       "      <td>Social, Finance, Analytics, Advertising</td>\n",
       "      <td>1</td>\n",
       "    </tr>\n",
       "  </tbody>\n",
       "</table>\n",
       "<p>688 rows × 3 columns</p>\n",
       "</div>"
      ],
      "text/plain": [
       "                 category_list                                 variable  value\n",
       "8             Adventure Travel                      Automotive & Sports      1\n",
       "14                   Aerospace                      Automotive & Sports      1\n",
       "45                        Auto                      Automotive & Sports      1\n",
       "46             Automated Kiosk                      Automotive & Sports      1\n",
       "47                  Automotive                      Automotive & Sports      1\n",
       "57                    Bicycles                      Automotive & Sports      1\n",
       "69            Boating Industry                      Automotive & Sports      1\n",
       "87                         CAD                      Automotive & Sports      1\n",
       "93                        Cars                      Automotive & Sports      1\n",
       "188                     Design                      Automotive & Sports      1\n",
       "189                  Designers                      Automotive & Sports      1\n",
       "213                     Drones                      Automotive & Sports      1\n",
       "226          Electric Vehicles                      Automotive & Sports      1\n",
       "292                      Fuels                      Automotive & Sports      1\n",
       "331             Heavy Industry                      Automotive & Sports      1\n",
       "364      Industrial Automation                      Automotive & Sports      1\n",
       "409                 Limousines                      Automotive & Sports      1\n",
       "602                     Soccer                      Automotive & Sports      1\n",
       "626             Sporting Goods                      Automotive & Sports      1\n",
       "627                     Sports                      Automotive & Sports      1\n",
       "652             Transportation                      Automotive & Sports      1\n",
       "657       Unmanned Air Systems                      Automotive & Sports      1\n",
       "688                        NaN                                   Blanks      1\n",
       "1392     Air Pollution Control               Cleantech / Semiconductors      1\n",
       "1409               Aquaculture               Cleantech / Semiconductors      1\n",
       "1437                 Bio-Pharm               Cleantech / Semiconductors      1\n",
       "1438                  Biofuels               Cleantech / Semiconductors      1\n",
       "1439            Bioinformatics               Cleantech / Semiconductors      1\n",
       "1440  Biomass Power Generation               Cleantech / Semiconductors      1\n",
       "1441                Biometrics               Cleantech / Semiconductors      1\n",
       "...                        ...                                      ...    ...\n",
       "6020            Perso0l Fi0nce  Social, Finance, Analytics, Advertising      1\n",
       "6037                  Pre Seed  Social, Finance, Analytics, Advertising      1\n",
       "6038       Predictive A0lytics  Social, Finance, Analytics, Advertising      1\n",
       "6040          Price Comparison  Social, Finance, Analytics, Advertising      1\n",
       "6053                Promotio0l  Social, Finance, Analytics, Advertising      1\n",
       "6054        Property Ma0gement  Social, Finance, Analytics, Advertising      1\n",
       "6055          Public Relations  Social, Finance, Analytics, Advertising      1\n",
       "6074                    Retail  Social, Finance, Analytics, Advertising      1\n",
       "6075         Retail Technology  Social, Finance, Analytics, Advertising      1\n",
       "6079            Risk Ma0gement  Social, Finance, Analytics, Advertising      1\n",
       "6082       Sales and Marketing  Social, Finance, Analytics, Advertising      1\n",
       "6107   Social + Mobile + Local  Social, Finance, Analytics, Advertising      1\n",
       "6108        Social Bookmarking  Social, Finance, Analytics, Advertising      1\n",
       "6109           Social Business  Social, Finance, Analytics, Advertising      1\n",
       "6110             Social Buying  Social, Finance, Analytics, Advertising      1\n",
       "6111           Social Commerce  Social, Finance, Analytics, Advertising      1\n",
       "6112                Social CRM  Social, Finance, Analytics, Advertising      1\n",
       "6113        Social Fundraising  Social, Finance, Analytics, Advertising      1\n",
       "6114              Social Games  Social, Finance, Analytics, Advertising      1\n",
       "6115              Social Media  Social, Finance, Analytics, Advertising      1\n",
       "6116    Social Media Ma0gement  Social, Finance, Analytics, Advertising      1\n",
       "6117    Social Media Marketing  Social, Finance, Analytics, Advertising      1\n",
       "6118    Social Media Platforms  Social, Finance, Analytics, Advertising      1\n",
       "6119      Social Network Media  Social, Finance, Analytics, Advertising      1\n",
       "6120               Social News  Social, Finance, Analytics, Advertising      1\n",
       "6121         Social Recruiting  Social, Finance, Analytics, Advertising      1\n",
       "6122         Social Television  Social, Finance, Analytics, Advertising      1\n",
       "6123             Social Travel  Social, Finance, Analytics, Advertising      1\n",
       "6134           Stock Exchanges  Social, Finance, Analytics, Advertising      1\n",
       "6167           Venture Capital  Social, Finance, Analytics, Advertising      1\n",
       "\n",
       "[688 rows x 3 columns]"
      ]
     },
     "execution_count": 772,
     "metadata": {},
     "output_type": "execute_result"
    }
   ],
   "source": [
    "# let us inspect sector dataframe\n",
    "sector"
   ]
  },
  {
   "cell_type": "markdown",
   "metadata": {},
   "source": [
    "We notice from above that there are lot of categorie where there is a '0' in place of legitimate characters, let us find all such categories below"
   ]
  },
  {
   "cell_type": "code",
   "execution_count": 773,
   "metadata": {
    "collapsed": false
   },
   "outputs": [
    {
     "data": {
      "text/html": [
       "<div>\n",
       "<style>\n",
       "    .dataframe thead tr:only-child th {\n",
       "        text-align: right;\n",
       "    }\n",
       "\n",
       "    .dataframe thead th {\n",
       "        text-align: left;\n",
       "    }\n",
       "\n",
       "    .dataframe tbody tr th {\n",
       "        vertical-align: top;\n",
       "    }\n",
       "</style>\n",
       "<table border=\"1\" class=\"dataframe\">\n",
       "  <thead>\n",
       "    <tr style=\"text-align: right;\">\n",
       "      <th></th>\n",
       "      <th>category_list</th>\n",
       "      <th>variable</th>\n",
       "      <th>value</th>\n",
       "    </tr>\n",
       "  </thead>\n",
       "  <tbody>\n",
       "    <tr>\n",
       "      <th>1616</th>\n",
       "      <td>Energy Ma0gement</td>\n",
       "      <td>Cleantech / Semiconductors</td>\n",
       "      <td>1</td>\n",
       "    </tr>\n",
       "    <tr>\n",
       "      <th>1847</th>\n",
       "      <td>0notechnology</td>\n",
       "      <td>Cleantech / Semiconductors</td>\n",
       "      <td>1</td>\n",
       "    </tr>\n",
       "    <tr>\n",
       "      <th>1848</th>\n",
       "      <td>0tural Language Processing</td>\n",
       "      <td>Cleantech / Semiconductors</td>\n",
       "      <td>1</td>\n",
       "    </tr>\n",
       "    <tr>\n",
       "      <th>1849</th>\n",
       "      <td>0tural Resources</td>\n",
       "      <td>Cleantech / Semiconductors</td>\n",
       "      <td>1</td>\n",
       "    </tr>\n",
       "    <tr>\n",
       "      <th>2048</th>\n",
       "      <td>Waste Ma0gement</td>\n",
       "      <td>Cleantech / Semiconductors</td>\n",
       "      <td>1</td>\n",
       "    </tr>\n",
       "    <tr>\n",
       "      <th>2262</th>\n",
       "      <td>Digital Rights Ma0gement</td>\n",
       "      <td>Entertainment</td>\n",
       "      <td>1</td>\n",
       "    </tr>\n",
       "    <tr>\n",
       "      <th>2263</th>\n",
       "      <td>Digital Sig0ge</td>\n",
       "      <td>Entertainment</td>\n",
       "      <td>1</td>\n",
       "    </tr>\n",
       "    <tr>\n",
       "      <th>2287</th>\n",
       "      <td>Educatio0l Games</td>\n",
       "      <td>Entertainment</td>\n",
       "      <td>1</td>\n",
       "    </tr>\n",
       "    <tr>\n",
       "      <th>2320</th>\n",
       "      <td>Event Ma0gement</td>\n",
       "      <td>Entertainment</td>\n",
       "      <td>1</td>\n",
       "    </tr>\n",
       "    <tr>\n",
       "      <th>2772</th>\n",
       "      <td>Alter0tive Medicine</td>\n",
       "      <td>Health</td>\n",
       "      <td>1</td>\n",
       "    </tr>\n",
       "    <tr>\n",
       "      <th>2841</th>\n",
       "      <td>Can0bis</td>\n",
       "      <td>Health</td>\n",
       "      <td>1</td>\n",
       "    </tr>\n",
       "    <tr>\n",
       "      <th>3189</th>\n",
       "      <td>Medical Professio0ls</td>\n",
       "      <td>Health</td>\n",
       "      <td>1</td>\n",
       "    </tr>\n",
       "    <tr>\n",
       "      <th>3269</th>\n",
       "      <td>Perso0l Health</td>\n",
       "      <td>Health</td>\n",
       "      <td>1</td>\n",
       "    </tr>\n",
       "    <tr>\n",
       "      <th>3416</th>\n",
       "      <td>Veteri0ry</td>\n",
       "      <td>Health</td>\n",
       "      <td>1</td>\n",
       "    </tr>\n",
       "    <tr>\n",
       "      <th>4231</th>\n",
       "      <td>Chi0 Internet</td>\n",
       "      <td>News, Search and Messaging</td>\n",
       "      <td>1</td>\n",
       "    </tr>\n",
       "    <tr>\n",
       "      <th>4242</th>\n",
       "      <td>Cloud Ma0gement</td>\n",
       "      <td>News, Search and Messaging</td>\n",
       "      <td>1</td>\n",
       "    </tr>\n",
       "    <tr>\n",
       "      <th>4519</th>\n",
       "      <td>Jour0lism</td>\n",
       "      <td>News, Search and Messaging</td>\n",
       "      <td>1</td>\n",
       "    </tr>\n",
       "    <tr>\n",
       "      <th>4602</th>\n",
       "      <td>0vigation</td>\n",
       "      <td>News, Search and Messaging</td>\n",
       "      <td>1</td>\n",
       "    </tr>\n",
       "    <tr>\n",
       "      <th>4674</th>\n",
       "      <td>Professio0l Networking</td>\n",
       "      <td>News, Search and Messaging</td>\n",
       "      <td>1</td>\n",
       "    </tr>\n",
       "    <tr>\n",
       "      <th>5026</th>\n",
       "      <td>Document Ma0gement</td>\n",
       "      <td>Others</td>\n",
       "      <td>1</td>\n",
       "    </tr>\n",
       "    <tr>\n",
       "      <th>5059</th>\n",
       "      <td>Enterprise 2.0</td>\n",
       "      <td>Others</td>\n",
       "      <td>1</td>\n",
       "    </tr>\n",
       "    <tr>\n",
       "      <th>5097</th>\n",
       "      <td>Fleet Ma0gement</td>\n",
       "      <td>Others</td>\n",
       "      <td>1</td>\n",
       "    </tr>\n",
       "    <tr>\n",
       "      <th>5126</th>\n",
       "      <td>Gover0nce</td>\n",
       "      <td>Others</td>\n",
       "      <td>1</td>\n",
       "    </tr>\n",
       "    <tr>\n",
       "      <th>5188</th>\n",
       "      <td>Intellectual Asset Ma0gement</td>\n",
       "      <td>Others</td>\n",
       "      <td>1</td>\n",
       "    </tr>\n",
       "    <tr>\n",
       "      <th>5205</th>\n",
       "      <td>IT Ma0gement</td>\n",
       "      <td>Others</td>\n",
       "      <td>1</td>\n",
       "    </tr>\n",
       "    <tr>\n",
       "      <th>5210</th>\n",
       "      <td>Knowledge Ma0gement</td>\n",
       "      <td>Others</td>\n",
       "      <td>1</td>\n",
       "    </tr>\n",
       "    <tr>\n",
       "      <th>5216</th>\n",
       "      <td>Lead Ma0gement</td>\n",
       "      <td>Others</td>\n",
       "      <td>1</td>\n",
       "    </tr>\n",
       "    <tr>\n",
       "      <th>5331</th>\n",
       "      <td>Perso0l Data</td>\n",
       "      <td>Others</td>\n",
       "      <td>1</td>\n",
       "    </tr>\n",
       "    <tr>\n",
       "      <th>5334</th>\n",
       "      <td>Perso0lization</td>\n",
       "      <td>Others</td>\n",
       "      <td>1</td>\n",
       "    </tr>\n",
       "    <tr>\n",
       "      <th>5363</th>\n",
       "      <td>Professio0l Services</td>\n",
       "      <td>Others</td>\n",
       "      <td>1</td>\n",
       "    </tr>\n",
       "    <tr>\n",
       "      <th>5364</th>\n",
       "      <td>Project Ma0gement</td>\n",
       "      <td>Others</td>\n",
       "      <td>1</td>\n",
       "    </tr>\n",
       "    <tr>\n",
       "      <th>5449</th>\n",
       "      <td>Supply Chain Ma0gement</td>\n",
       "      <td>Others</td>\n",
       "      <td>1</td>\n",
       "    </tr>\n",
       "    <tr>\n",
       "      <th>5453</th>\n",
       "      <td>Task Ma0gement</td>\n",
       "      <td>Others</td>\n",
       "      <td>1</td>\n",
       "    </tr>\n",
       "    <tr>\n",
       "      <th>5526</th>\n",
       "      <td>A0lytics</td>\n",
       "      <td>Social, Finance, Analytics, Advertising</td>\n",
       "      <td>1</td>\n",
       "    </tr>\n",
       "    <tr>\n",
       "      <th>5563</th>\n",
       "      <td>Big Data A0lytics</td>\n",
       "      <td>Social, Finance, Analytics, Advertising</td>\n",
       "      <td>1</td>\n",
       "    </tr>\n",
       "    <tr>\n",
       "      <th>5583</th>\n",
       "      <td>Business A0lytics</td>\n",
       "      <td>Social, Finance, Analytics, Advertising</td>\n",
       "      <td>1</td>\n",
       "    </tr>\n",
       "    <tr>\n",
       "      <th>5595</th>\n",
       "      <td>Career Ma0gement</td>\n",
       "      <td>Social, Finance, Analytics, Advertising</td>\n",
       "      <td>1</td>\n",
       "    </tr>\n",
       "    <tr>\n",
       "      <th>5649</th>\n",
       "      <td>Contact Ma0gement</td>\n",
       "      <td>Social, Finance, Analytics, Advertising</td>\n",
       "      <td>1</td>\n",
       "    </tr>\n",
       "    <tr>\n",
       "      <th>5777</th>\n",
       "      <td>Fi0nce</td>\n",
       "      <td>Social, Finance, Analytics, Advertising</td>\n",
       "      <td>1</td>\n",
       "    </tr>\n",
       "    <tr>\n",
       "      <th>5778</th>\n",
       "      <td>Fi0nce Technology</td>\n",
       "      <td>Social, Finance, Analytics, Advertising</td>\n",
       "      <td>1</td>\n",
       "    </tr>\n",
       "    <tr>\n",
       "      <th>5779</th>\n",
       "      <td>Fi0ncial Exchanges</td>\n",
       "      <td>Social, Finance, Analytics, Advertising</td>\n",
       "      <td>1</td>\n",
       "    </tr>\n",
       "    <tr>\n",
       "      <th>5780</th>\n",
       "      <td>Fi0ncial Services</td>\n",
       "      <td>Social, Finance, Analytics, Advertising</td>\n",
       "      <td>1</td>\n",
       "    </tr>\n",
       "    <tr>\n",
       "      <th>5857</th>\n",
       "      <td>Identity Ma0gement</td>\n",
       "      <td>Social, Finance, Analytics, Advertising</td>\n",
       "      <td>1</td>\n",
       "    </tr>\n",
       "    <tr>\n",
       "      <th>5874</th>\n",
       "      <td>Innovation Ma0gement</td>\n",
       "      <td>Social, Finance, Analytics, Advertising</td>\n",
       "      <td>1</td>\n",
       "    </tr>\n",
       "    <tr>\n",
       "      <th>5888</th>\n",
       "      <td>Investment Ma0gement</td>\n",
       "      <td>Social, Finance, Analytics, Advertising</td>\n",
       "      <td>1</td>\n",
       "    </tr>\n",
       "    <tr>\n",
       "      <th>5952</th>\n",
       "      <td>Mobile A0lytics</td>\n",
       "      <td>Social, Finance, Analytics, Advertising</td>\n",
       "      <td>1</td>\n",
       "    </tr>\n",
       "    <tr>\n",
       "      <th>6018</th>\n",
       "      <td>Perso0l Branding</td>\n",
       "      <td>Social, Finance, Analytics, Advertising</td>\n",
       "      <td>1</td>\n",
       "    </tr>\n",
       "    <tr>\n",
       "      <th>6020</th>\n",
       "      <td>Perso0l Fi0nce</td>\n",
       "      <td>Social, Finance, Analytics, Advertising</td>\n",
       "      <td>1</td>\n",
       "    </tr>\n",
       "    <tr>\n",
       "      <th>6038</th>\n",
       "      <td>Predictive A0lytics</td>\n",
       "      <td>Social, Finance, Analytics, Advertising</td>\n",
       "      <td>1</td>\n",
       "    </tr>\n",
       "    <tr>\n",
       "      <th>6053</th>\n",
       "      <td>Promotio0l</td>\n",
       "      <td>Social, Finance, Analytics, Advertising</td>\n",
       "      <td>1</td>\n",
       "    </tr>\n",
       "    <tr>\n",
       "      <th>6054</th>\n",
       "      <td>Property Ma0gement</td>\n",
       "      <td>Social, Finance, Analytics, Advertising</td>\n",
       "      <td>1</td>\n",
       "    </tr>\n",
       "    <tr>\n",
       "      <th>6079</th>\n",
       "      <td>Risk Ma0gement</td>\n",
       "      <td>Social, Finance, Analytics, Advertising</td>\n",
       "      <td>1</td>\n",
       "    </tr>\n",
       "    <tr>\n",
       "      <th>6116</th>\n",
       "      <td>Social Media Ma0gement</td>\n",
       "      <td>Social, Finance, Analytics, Advertising</td>\n",
       "      <td>1</td>\n",
       "    </tr>\n",
       "  </tbody>\n",
       "</table>\n",
       "</div>"
      ],
      "text/plain": [
       "                     category_list                                 variable  \\\n",
       "1616              Energy Ma0gement               Cleantech / Semiconductors   \n",
       "1847                 0notechnology               Cleantech / Semiconductors   \n",
       "1848    0tural Language Processing               Cleantech / Semiconductors   \n",
       "1849              0tural Resources               Cleantech / Semiconductors   \n",
       "2048               Waste Ma0gement               Cleantech / Semiconductors   \n",
       "2262      Digital Rights Ma0gement                            Entertainment   \n",
       "2263                Digital Sig0ge                            Entertainment   \n",
       "2287              Educatio0l Games                            Entertainment   \n",
       "2320               Event Ma0gement                            Entertainment   \n",
       "2772           Alter0tive Medicine                                   Health   \n",
       "2841                       Can0bis                                   Health   \n",
       "3189          Medical Professio0ls                                   Health   \n",
       "3269                Perso0l Health                                   Health   \n",
       "3416                     Veteri0ry                                   Health   \n",
       "4231                 Chi0 Internet               News, Search and Messaging   \n",
       "4242               Cloud Ma0gement               News, Search and Messaging   \n",
       "4519                     Jour0lism               News, Search and Messaging   \n",
       "4602                     0vigation               News, Search and Messaging   \n",
       "4674        Professio0l Networking               News, Search and Messaging   \n",
       "5026            Document Ma0gement                                   Others   \n",
       "5059                Enterprise 2.0                                   Others   \n",
       "5097               Fleet Ma0gement                                   Others   \n",
       "5126                     Gover0nce                                   Others   \n",
       "5188  Intellectual Asset Ma0gement                                   Others   \n",
       "5205                  IT Ma0gement                                   Others   \n",
       "5210           Knowledge Ma0gement                                   Others   \n",
       "5216                Lead Ma0gement                                   Others   \n",
       "5331                  Perso0l Data                                   Others   \n",
       "5334                Perso0lization                                   Others   \n",
       "5363          Professio0l Services                                   Others   \n",
       "5364             Project Ma0gement                                   Others   \n",
       "5449        Supply Chain Ma0gement                                   Others   \n",
       "5453                Task Ma0gement                                   Others   \n",
       "5526                      A0lytics  Social, Finance, Analytics, Advertising   \n",
       "5563             Big Data A0lytics  Social, Finance, Analytics, Advertising   \n",
       "5583             Business A0lytics  Social, Finance, Analytics, Advertising   \n",
       "5595              Career Ma0gement  Social, Finance, Analytics, Advertising   \n",
       "5649             Contact Ma0gement  Social, Finance, Analytics, Advertising   \n",
       "5777                        Fi0nce  Social, Finance, Analytics, Advertising   \n",
       "5778             Fi0nce Technology  Social, Finance, Analytics, Advertising   \n",
       "5779            Fi0ncial Exchanges  Social, Finance, Analytics, Advertising   \n",
       "5780             Fi0ncial Services  Social, Finance, Analytics, Advertising   \n",
       "5857            Identity Ma0gement  Social, Finance, Analytics, Advertising   \n",
       "5874          Innovation Ma0gement  Social, Finance, Analytics, Advertising   \n",
       "5888          Investment Ma0gement  Social, Finance, Analytics, Advertising   \n",
       "5952               Mobile A0lytics  Social, Finance, Analytics, Advertising   \n",
       "6018              Perso0l Branding  Social, Finance, Analytics, Advertising   \n",
       "6020                Perso0l Fi0nce  Social, Finance, Analytics, Advertising   \n",
       "6038           Predictive A0lytics  Social, Finance, Analytics, Advertising   \n",
       "6053                    Promotio0l  Social, Finance, Analytics, Advertising   \n",
       "6054            Property Ma0gement  Social, Finance, Analytics, Advertising   \n",
       "6079                Risk Ma0gement  Social, Finance, Analytics, Advertising   \n",
       "6116        Social Media Ma0gement  Social, Finance, Analytics, Advertising   \n",
       "\n",
       "      value  \n",
       "1616      1  \n",
       "1847      1  \n",
       "1848      1  \n",
       "1849      1  \n",
       "2048      1  \n",
       "2262      1  \n",
       "2263      1  \n",
       "2287      1  \n",
       "2320      1  \n",
       "2772      1  \n",
       "2841      1  \n",
       "3189      1  \n",
       "3269      1  \n",
       "3416      1  \n",
       "4231      1  \n",
       "4242      1  \n",
       "4519      1  \n",
       "4602      1  \n",
       "4674      1  \n",
       "5026      1  \n",
       "5059      1  \n",
       "5097      1  \n",
       "5126      1  \n",
       "5188      1  \n",
       "5205      1  \n",
       "5210      1  \n",
       "5216      1  \n",
       "5331      1  \n",
       "5334      1  \n",
       "5363      1  \n",
       "5364      1  \n",
       "5449      1  \n",
       "5453      1  \n",
       "5526      1  \n",
       "5563      1  \n",
       "5583      1  \n",
       "5595      1  \n",
       "5649      1  \n",
       "5777      1  \n",
       "5778      1  \n",
       "5779      1  \n",
       "5780      1  \n",
       "5857      1  \n",
       "5874      1  \n",
       "5888      1  \n",
       "5952      1  \n",
       "6018      1  \n",
       "6020      1  \n",
       "6038      1  \n",
       "6053      1  \n",
       "6054      1  \n",
       "6079      1  \n",
       "6116      1  "
      ]
     },
     "execution_count": 773,
     "metadata": {},
     "output_type": "execute_result"
    }
   ],
   "source": [
    "sector.loc[sector.category_list.notnull & sector.category_list.str.contains('0')]"
   ]
  },
  {
   "cell_type": "markdown",
   "metadata": {},
   "source": [
    "We observe that in all above cases characters 'na' has been replaced by '0', let is correct all such cases."
   ]
  },
  {
   "cell_type": "code",
   "execution_count": 774,
   "metadata": {
    "collapsed": false
   },
   "outputs": [],
   "source": [
    "sector.loc[sector.category_list.notnull & sector.category_list.str.contains('0'),'category_list']=sector.loc[sector.category_list.notnull & sector.category_list.str.contains('0'),'category_list'].str.replace('0','na')"
   ]
  },
  {
   "cell_type": "code",
   "execution_count": 775,
   "metadata": {
    "collapsed": false
   },
   "outputs": [
    {
     "data": {
      "text/plain": [
       "0"
      ]
     },
     "execution_count": 775,
     "metadata": {},
     "output_type": "execute_result"
    }
   ],
   "source": [
    "# check that all such values have been replaced\n",
    "len(sector.loc[sector.category_list.notnull & sector.category_list.str.contains('0')])"
   ]
  },
  {
   "cell_type": "code",
   "execution_count": 776,
   "metadata": {
    "collapsed": false
   },
   "outputs": [
    {
     "data": {
      "text/html": [
       "<div>\n",
       "<style>\n",
       "    .dataframe thead tr:only-child th {\n",
       "        text-align: right;\n",
       "    }\n",
       "\n",
       "    .dataframe thead th {\n",
       "        text-align: left;\n",
       "    }\n",
       "\n",
       "    .dataframe tbody tr th {\n",
       "        vertical-align: top;\n",
       "    }\n",
       "</style>\n",
       "<table border=\"1\" class=\"dataframe\">\n",
       "  <thead>\n",
       "    <tr style=\"text-align: right;\">\n",
       "      <th></th>\n",
       "      <th>category_list</th>\n",
       "      <th>main_sector</th>\n",
       "      <th>value</th>\n",
       "    </tr>\n",
       "  </thead>\n",
       "  <tbody>\n",
       "    <tr>\n",
       "      <th>8</th>\n",
       "      <td>Adventure Travel</td>\n",
       "      <td>Automotive &amp; Sports</td>\n",
       "      <td>1</td>\n",
       "    </tr>\n",
       "    <tr>\n",
       "      <th>14</th>\n",
       "      <td>Aerospace</td>\n",
       "      <td>Automotive &amp; Sports</td>\n",
       "      <td>1</td>\n",
       "    </tr>\n",
       "    <tr>\n",
       "      <th>45</th>\n",
       "      <td>Auto</td>\n",
       "      <td>Automotive &amp; Sports</td>\n",
       "      <td>1</td>\n",
       "    </tr>\n",
       "    <tr>\n",
       "      <th>46</th>\n",
       "      <td>Automated Kiosk</td>\n",
       "      <td>Automotive &amp; Sports</td>\n",
       "      <td>1</td>\n",
       "    </tr>\n",
       "    <tr>\n",
       "      <th>47</th>\n",
       "      <td>Automotive</td>\n",
       "      <td>Automotive &amp; Sports</td>\n",
       "      <td>1</td>\n",
       "    </tr>\n",
       "  </tbody>\n",
       "</table>\n",
       "</div>"
      ],
      "text/plain": [
       "       category_list          main_sector  value\n",
       "8   Adventure Travel  Automotive & Sports      1\n",
       "14         Aerospace  Automotive & Sports      1\n",
       "45              Auto  Automotive & Sports      1\n",
       "46   Automated Kiosk  Automotive & Sports      1\n",
       "47        Automotive  Automotive & Sports      1"
      ]
     },
     "execution_count": 776,
     "metadata": {},
     "output_type": "execute_result"
    }
   ],
   "source": [
    "# rename variable as main_sector\n",
    "sector.rename(columns={'variable':'main_sector'},inplace=True)\n",
    "sector.head()"
   ]
  },
  {
   "cell_type": "code",
   "execution_count": 777,
   "metadata": {
    "collapsed": false
   },
   "outputs": [
    {
     "data": {
      "text/plain": [
       "688"
      ]
     },
     "execution_count": 777,
     "metadata": {},
     "output_type": "execute_result"
    }
   ],
   "source": [
    "len(sector)"
   ]
  },
  {
   "cell_type": "markdown",
   "metadata": {},
   "source": [
    "We observe that in master_frame data frame there are several category_list values which contain multiple pipe delimited values, we apply a **business rule** in such cases to only the first category before delimiter as the primary sector."
   ]
  },
  {
   "cell_type": "code",
   "execution_count": 778,
   "metadata": {
    "collapsed": false
   },
   "outputs": [],
   "source": [
    "# define function to extract primary sector\n",
    "def findPrimaryCategory(x):\n",
    "    if pd.isnull(x):\n",
    "        return x\n",
    "    else:\n",
    "        return x.split('|')[0]\n",
    "\n",
    "# apply above function to master_frame    \n",
    "master_frame.category_list = master_frame.category_list.apply(findPrimaryCategory)"
   ]
  },
  {
   "cell_type": "code",
   "execution_count": 779,
   "metadata": {
    "collapsed": false
   },
   "outputs": [
    {
     "data": {
      "text/html": [
       "<div>\n",
       "<style>\n",
       "    .dataframe thead tr:only-child th {\n",
       "        text-align: right;\n",
       "    }\n",
       "\n",
       "    .dataframe thead th {\n",
       "        text-align: left;\n",
       "    }\n",
       "\n",
       "    .dataframe tbody tr th {\n",
       "        vertical-align: top;\n",
       "    }\n",
       "</style>\n",
       "<table border=\"1\" class=\"dataframe\">\n",
       "  <thead>\n",
       "    <tr style=\"text-align: right;\">\n",
       "      <th></th>\n",
       "      <th>permalink</th>\n",
       "      <th>name</th>\n",
       "      <th>homepage_url</th>\n",
       "      <th>category_list</th>\n",
       "      <th>status</th>\n",
       "      <th>country_code</th>\n",
       "      <th>company_permalink</th>\n",
       "      <th>funding_round_permalink</th>\n",
       "      <th>funding_round_type</th>\n",
       "      <th>funding_round_code</th>\n",
       "      <th>funded_at</th>\n",
       "      <th>raised_amount_usd</th>\n",
       "      <th>country</th>\n",
       "    </tr>\n",
       "  </thead>\n",
       "  <tbody>\n",
       "    <tr>\n",
       "      <th>0</th>\n",
       "      <td>/organization/-fame</td>\n",
       "      <td>#fame</td>\n",
       "      <td>http://livfame.com</td>\n",
       "      <td>Media</td>\n",
       "      <td>operating</td>\n",
       "      <td>IND</td>\n",
       "      <td>/organization/-fame</td>\n",
       "      <td>/funding-round/9a01d05418af9f794eebff7ace91f638</td>\n",
       "      <td>venture</td>\n",
       "      <td>B</td>\n",
       "      <td>05-01-2015</td>\n",
       "      <td>10000000.0</td>\n",
       "      <td>India</td>\n",
       "    </tr>\n",
       "    <tr>\n",
       "      <th>2</th>\n",
       "      <td>/organization/-qounter</td>\n",
       "      <td>:Qounter</td>\n",
       "      <td>http://www.qounter.com</td>\n",
       "      <td>Application Platforms</td>\n",
       "      <td>operating</td>\n",
       "      <td>USA</td>\n",
       "      <td>/organization/-qounter</td>\n",
       "      <td>/funding-round/b44fbb94153f6cdef13083530bb48030</td>\n",
       "      <td>seed</td>\n",
       "      <td>NaN</td>\n",
       "      <td>01-03-2014</td>\n",
       "      <td>700000.0</td>\n",
       "      <td>United States</td>\n",
       "    </tr>\n",
       "    <tr>\n",
       "      <th>4</th>\n",
       "      <td>/organization/0-6-com</td>\n",
       "      <td>0-6.com</td>\n",
       "      <td>http://www.0-6.com</td>\n",
       "      <td>Curated Web</td>\n",
       "      <td>operating</td>\n",
       "      <td>CHN</td>\n",
       "      <td>/organization/0-6-com</td>\n",
       "      <td>/funding-round/5727accaeaa57461bd22a9bdd945382d</td>\n",
       "      <td>venture</td>\n",
       "      <td>A</td>\n",
       "      <td>19-03-2008</td>\n",
       "      <td>2000000.0</td>\n",
       "      <td>China</td>\n",
       "    </tr>\n",
       "    <tr>\n",
       "      <th>6</th>\n",
       "      <td>/organization/01games-technology</td>\n",
       "      <td>01Games Technology</td>\n",
       "      <td>http://www.01games.hk/</td>\n",
       "      <td>Games</td>\n",
       "      <td>operating</td>\n",
       "      <td>HKG</td>\n",
       "      <td>/organization/01games-technology</td>\n",
       "      <td>/funding-round/7d53696f2b4f607a2f2a8cbb83d01839</td>\n",
       "      <td>undisclosed</td>\n",
       "      <td>NaN</td>\n",
       "      <td>01-07-2014</td>\n",
       "      <td>41250.0</td>\n",
       "      <td>NaN</td>\n",
       "    </tr>\n",
       "    <tr>\n",
       "      <th>7</th>\n",
       "      <td>/organization/0ndine-biomedical-inc</td>\n",
       "      <td>Ondine Biomedical Inc.</td>\n",
       "      <td>http://ondinebio.com</td>\n",
       "      <td>Biotechnology</td>\n",
       "      <td>operating</td>\n",
       "      <td>CAN</td>\n",
       "      <td>/organization/0ndine-biomedical-inc</td>\n",
       "      <td>/funding-round/2b9d3ac293d5cdccbecff5c8cb0f327d</td>\n",
       "      <td>seed</td>\n",
       "      <td>NaN</td>\n",
       "      <td>11-09-2009</td>\n",
       "      <td>43360.0</td>\n",
       "      <td>Canada</td>\n",
       "    </tr>\n",
       "  </tbody>\n",
       "</table>\n",
       "</div>"
      ],
      "text/plain": [
       "                             permalink                    name  \\\n",
       "0                  /organization/-fame                   #fame   \n",
       "2               /organization/-qounter                :Qounter   \n",
       "4                /organization/0-6-com                 0-6.com   \n",
       "6     /organization/01games-technology      01Games Technology   \n",
       "7  /organization/0ndine-biomedical-inc  Ondine Biomedical Inc.   \n",
       "\n",
       "             homepage_url          category_list     status country_code  \\\n",
       "0      http://livfame.com                  Media  operating          IND   \n",
       "2  http://www.qounter.com  Application Platforms  operating          USA   \n",
       "4      http://www.0-6.com            Curated Web  operating          CHN   \n",
       "6  http://www.01games.hk/                  Games  operating          HKG   \n",
       "7    http://ondinebio.com          Biotechnology  operating          CAN   \n",
       "\n",
       "                     company_permalink  \\\n",
       "0                  /organization/-fame   \n",
       "2               /organization/-qounter   \n",
       "4                /organization/0-6-com   \n",
       "6     /organization/01games-technology   \n",
       "7  /organization/0ndine-biomedical-inc   \n",
       "\n",
       "                           funding_round_permalink funding_round_type  \\\n",
       "0  /funding-round/9a01d05418af9f794eebff7ace91f638            venture   \n",
       "2  /funding-round/b44fbb94153f6cdef13083530bb48030               seed   \n",
       "4  /funding-round/5727accaeaa57461bd22a9bdd945382d            venture   \n",
       "6  /funding-round/7d53696f2b4f607a2f2a8cbb83d01839        undisclosed   \n",
       "7  /funding-round/2b9d3ac293d5cdccbecff5c8cb0f327d               seed   \n",
       "\n",
       "  funding_round_code   funded_at  raised_amount_usd        country  \n",
       "0                  B  05-01-2015         10000000.0          India  \n",
       "2                NaN  01-03-2014           700000.0  United States  \n",
       "4                  A  19-03-2008          2000000.0          China  \n",
       "6                NaN  01-07-2014            41250.0            NaN  \n",
       "7                NaN  11-09-2009            43360.0         Canada  "
      ]
     },
     "execution_count": 779,
     "metadata": {},
     "output_type": "execute_result"
    }
   ],
   "source": [
    "# let us inspect master frame after extracting primary sector\n",
    "master_frame.head()"
   ]
  },
  {
   "cell_type": "code",
   "execution_count": 780,
   "metadata": {
    "collapsed": false
   },
   "outputs": [],
   "source": [
    "# let us now merge sector information in master frame\n",
    "master_frame = pd.merge(master_frame,sector,how='inner',left_on='category_list',right_on='category_list')"
   ]
  },
  {
   "cell_type": "code",
   "execution_count": 781,
   "metadata": {
    "collapsed": true
   },
   "outputs": [],
   "source": [
    "# rename category list column as primary sector\n",
    "master_frame.rename(columns={'category_list':'primary_sector'},inplace=True)"
   ]
  },
  {
   "cell_type": "code",
   "execution_count": 782,
   "metadata": {
    "collapsed": false
   },
   "outputs": [
    {
     "data": {
      "text/plain": [
       "88200"
      ]
     },
     "execution_count": 782,
     "metadata": {},
     "output_type": "execute_result"
    }
   ],
   "source": [
    "len(master_frame)"
   ]
  },
  {
   "cell_type": "code",
   "execution_count": 783,
   "metadata": {
    "collapsed": false
   },
   "outputs": [
    {
     "data": {
      "text/html": [
       "<div>\n",
       "<style>\n",
       "    .dataframe thead tr:only-child th {\n",
       "        text-align: right;\n",
       "    }\n",
       "\n",
       "    .dataframe thead th {\n",
       "        text-align: left;\n",
       "    }\n",
       "\n",
       "    .dataframe tbody tr th {\n",
       "        vertical-align: top;\n",
       "    }\n",
       "</style>\n",
       "<table border=\"1\" class=\"dataframe\">\n",
       "  <thead>\n",
       "    <tr style=\"text-align: right;\">\n",
       "      <th></th>\n",
       "      <th>permalink</th>\n",
       "      <th>name</th>\n",
       "      <th>homepage_url</th>\n",
       "      <th>primary_sector</th>\n",
       "      <th>status</th>\n",
       "      <th>country_code</th>\n",
       "      <th>company_permalink</th>\n",
       "      <th>funding_round_permalink</th>\n",
       "      <th>funding_round_type</th>\n",
       "      <th>funding_round_code</th>\n",
       "      <th>funded_at</th>\n",
       "      <th>raised_amount_usd</th>\n",
       "      <th>country</th>\n",
       "      <th>main_sector</th>\n",
       "      <th>value</th>\n",
       "    </tr>\n",
       "  </thead>\n",
       "  <tbody>\n",
       "    <tr>\n",
       "      <th>0</th>\n",
       "      <td>/organization/-fame</td>\n",
       "      <td>#fame</td>\n",
       "      <td>http://livfame.com</td>\n",
       "      <td>Media</td>\n",
       "      <td>operating</td>\n",
       "      <td>IND</td>\n",
       "      <td>/organization/-fame</td>\n",
       "      <td>/funding-round/9a01d05418af9f794eebff7ace91f638</td>\n",
       "      <td>venture</td>\n",
       "      <td>B</td>\n",
       "      <td>05-01-2015</td>\n",
       "      <td>10000000.0</td>\n",
       "      <td>India</td>\n",
       "      <td>Entertainment</td>\n",
       "      <td>1</td>\n",
       "    </tr>\n",
       "    <tr>\n",
       "      <th>1</th>\n",
       "      <td>/organization/90min</td>\n",
       "      <td>90min</td>\n",
       "      <td>http://www.90min.com</td>\n",
       "      <td>Media</td>\n",
       "      <td>operating</td>\n",
       "      <td>GBR</td>\n",
       "      <td>/organization/90min</td>\n",
       "      <td>/funding-round/21a2cbf6f2fb2a1c2a61e04bf930dfe6</td>\n",
       "      <td>venture</td>\n",
       "      <td>NaN</td>\n",
       "      <td>06-10-2015</td>\n",
       "      <td>15000000.0</td>\n",
       "      <td>United Kingdom</td>\n",
       "      <td>Entertainment</td>\n",
       "      <td>1</td>\n",
       "    </tr>\n",
       "    <tr>\n",
       "      <th>2</th>\n",
       "      <td>/organization/90min</td>\n",
       "      <td>90min</td>\n",
       "      <td>http://www.90min.com</td>\n",
       "      <td>Media</td>\n",
       "      <td>operating</td>\n",
       "      <td>GBR</td>\n",
       "      <td>/organization/90min</td>\n",
       "      <td>/funding-round/bd626ed022f5c66574b1afe234f3c90d</td>\n",
       "      <td>venture</td>\n",
       "      <td>NaN</td>\n",
       "      <td>07-05-2013</td>\n",
       "      <td>5800000.0</td>\n",
       "      <td>United Kingdom</td>\n",
       "      <td>Entertainment</td>\n",
       "      <td>1</td>\n",
       "    </tr>\n",
       "    <tr>\n",
       "      <th>3</th>\n",
       "      <td>/organization/90min</td>\n",
       "      <td>90min</td>\n",
       "      <td>http://www.90min.com</td>\n",
       "      <td>Media</td>\n",
       "      <td>operating</td>\n",
       "      <td>GBR</td>\n",
       "      <td>/organization/90min</td>\n",
       "      <td>/funding-round/fd4b15e8c97ee2ffc0acccdbe1a98810</td>\n",
       "      <td>venture</td>\n",
       "      <td>NaN</td>\n",
       "      <td>26-03-2014</td>\n",
       "      <td>18000000.0</td>\n",
       "      <td>United Kingdom</td>\n",
       "      <td>Entertainment</td>\n",
       "      <td>1</td>\n",
       "    </tr>\n",
       "    <tr>\n",
       "      <th>4</th>\n",
       "      <td>/organization/a-dance-for-me</td>\n",
       "      <td>A Dance for Me</td>\n",
       "      <td>http://www.adanceforme.com/</td>\n",
       "      <td>Media</td>\n",
       "      <td>operating</td>\n",
       "      <td>USA</td>\n",
       "      <td>/organization/a-dance-for-me</td>\n",
       "      <td>/funding-round/9ab9dbd17bf010c79d8415b2c22be6fa</td>\n",
       "      <td>equity_crowdfunding</td>\n",
       "      <td>NaN</td>\n",
       "      <td>26-03-2014</td>\n",
       "      <td>1090000.0</td>\n",
       "      <td>United States</td>\n",
       "      <td>Entertainment</td>\n",
       "      <td>1</td>\n",
       "    </tr>\n",
       "  </tbody>\n",
       "</table>\n",
       "</div>"
      ],
      "text/plain": [
       "                      permalink            name                 homepage_url  \\\n",
       "0           /organization/-fame           #fame           http://livfame.com   \n",
       "1           /organization/90min           90min         http://www.90min.com   \n",
       "2           /organization/90min           90min         http://www.90min.com   \n",
       "3           /organization/90min           90min         http://www.90min.com   \n",
       "4  /organization/a-dance-for-me  A Dance for Me  http://www.adanceforme.com/   \n",
       "\n",
       "  primary_sector     status country_code             company_permalink  \\\n",
       "0          Media  operating          IND           /organization/-fame   \n",
       "1          Media  operating          GBR           /organization/90min   \n",
       "2          Media  operating          GBR           /organization/90min   \n",
       "3          Media  operating          GBR           /organization/90min   \n",
       "4          Media  operating          USA  /organization/a-dance-for-me   \n",
       "\n",
       "                           funding_round_permalink   funding_round_type  \\\n",
       "0  /funding-round/9a01d05418af9f794eebff7ace91f638              venture   \n",
       "1  /funding-round/21a2cbf6f2fb2a1c2a61e04bf930dfe6              venture   \n",
       "2  /funding-round/bd626ed022f5c66574b1afe234f3c90d              venture   \n",
       "3  /funding-round/fd4b15e8c97ee2ffc0acccdbe1a98810              venture   \n",
       "4  /funding-round/9ab9dbd17bf010c79d8415b2c22be6fa  equity_crowdfunding   \n",
       "\n",
       "  funding_round_code   funded_at  raised_amount_usd         country  \\\n",
       "0                  B  05-01-2015         10000000.0           India   \n",
       "1                NaN  06-10-2015         15000000.0  United Kingdom   \n",
       "2                NaN  07-05-2013          5800000.0  United Kingdom   \n",
       "3                NaN  26-03-2014         18000000.0  United Kingdom   \n",
       "4                NaN  26-03-2014          1090000.0   United States   \n",
       "\n",
       "     main_sector  value  \n",
       "0  Entertainment      1  \n",
       "1  Entertainment      1  \n",
       "2  Entertainment      1  \n",
       "3  Entertainment      1  \n",
       "4  Entertainment      1  "
      ]
     },
     "execution_count": 783,
     "metadata": {},
     "output_type": "execute_result"
    }
   ],
   "source": [
    "master_frame.head()"
   ]
  },
  {
   "cell_type": "code",
   "execution_count": 784,
   "metadata": {
    "collapsed": false
   },
   "outputs": [
    {
     "data": {
      "text/plain": [
       "0"
      ]
     },
     "execution_count": 784,
     "metadata": {},
     "output_type": "execute_result"
    }
   ],
   "source": [
    "# check if thereare any Blanks\n",
    "len(master_frame.loc[master_frame.primary_sector=='Blanks'])"
   ]
  },
  {
   "cell_type": "markdown",
   "metadata": {},
   "source": [
    "## Checkpoint 5: Sector Analysis 2\n",
    "In this section we create 3 data frames D1, D2 and D3 based on top 3 english speaking investment destinations ie. United States, United Kingdom and India for funding type 'venture'"
   ]
  },
  {
   "cell_type": "code",
   "execution_count": 785,
   "metadata": {
    "collapsed": false
   },
   "outputs": [],
   "source": [
    "# Data frame D1 for top 1 country: United States, Funding Type as 'venture'\n",
    "# and investment b/w 5 and 15 million usd.\n",
    "D1 = master_frame[(master_frame.country_code == 'USA')&(master_frame.raised_amount_usd >= 5*10**6)\n",
    "                  &(master_frame.raised_amount_usd <= 15*10**6)&(master_frame.funding_round_type=='venture')].copy()"
   ]
  },
  {
   "cell_type": "code",
   "execution_count": 786,
   "metadata": {
    "collapsed": false
   },
   "outputs": [
    {
     "data": {
      "text/html": [
       "<div>\n",
       "<style>\n",
       "    .dataframe thead tr:only-child th {\n",
       "        text-align: right;\n",
       "    }\n",
       "\n",
       "    .dataframe thead th {\n",
       "        text-align: left;\n",
       "    }\n",
       "\n",
       "    .dataframe tbody tr th {\n",
       "        vertical-align: top;\n",
       "    }\n",
       "</style>\n",
       "<table border=\"1\" class=\"dataframe\">\n",
       "  <thead>\n",
       "    <tr style=\"text-align: right;\">\n",
       "      <th></th>\n",
       "      <th>permalink</th>\n",
       "      <th>name</th>\n",
       "      <th>homepage_url</th>\n",
       "      <th>primary_sector</th>\n",
       "      <th>status</th>\n",
       "      <th>country_code</th>\n",
       "      <th>company_permalink</th>\n",
       "      <th>funding_round_permalink</th>\n",
       "      <th>funding_round_type</th>\n",
       "      <th>funding_round_code</th>\n",
       "      <th>funded_at</th>\n",
       "      <th>raised_amount_usd</th>\n",
       "      <th>country</th>\n",
       "      <th>main_sector</th>\n",
       "      <th>value</th>\n",
       "    </tr>\n",
       "  </thead>\n",
       "  <tbody>\n",
       "    <tr>\n",
       "      <th>7</th>\n",
       "      <td>/organization/all-def-digital</td>\n",
       "      <td>All Def Digital</td>\n",
       "      <td>http://alldefdigital.com</td>\n",
       "      <td>Media</td>\n",
       "      <td>operating</td>\n",
       "      <td>USA</td>\n",
       "      <td>/organization/all-def-digital</td>\n",
       "      <td>/funding-round/452a2342fe720285c3b92e9bd927d9ba</td>\n",
       "      <td>venture</td>\n",
       "      <td>A</td>\n",
       "      <td>06-08-2014</td>\n",
       "      <td>5000000.0</td>\n",
       "      <td>United States</td>\n",
       "      <td>Entertainment</td>\n",
       "      <td>1</td>\n",
       "    </tr>\n",
       "    <tr>\n",
       "      <th>31</th>\n",
       "      <td>/organization/chefs-feed</td>\n",
       "      <td>ChefsFeed</td>\n",
       "      <td>http://www.chefsfeed.com</td>\n",
       "      <td>Media</td>\n",
       "      <td>operating</td>\n",
       "      <td>USA</td>\n",
       "      <td>/organization/chefs-feed</td>\n",
       "      <td>/funding-round/adca195749ae9ace84684723fbe75e5b</td>\n",
       "      <td>venture</td>\n",
       "      <td>A</td>\n",
       "      <td>26-02-2015</td>\n",
       "      <td>5000000.0</td>\n",
       "      <td>United States</td>\n",
       "      <td>Entertainment</td>\n",
       "      <td>1</td>\n",
       "    </tr>\n",
       "    <tr>\n",
       "      <th>61</th>\n",
       "      <td>/organization/huffingtonpost</td>\n",
       "      <td>The Huffington Post</td>\n",
       "      <td>http://www.huffingtonpost.com</td>\n",
       "      <td>Media</td>\n",
       "      <td>acquired</td>\n",
       "      <td>USA</td>\n",
       "      <td>/organization/huffingtonpost</td>\n",
       "      <td>/funding-round/7f05940c4d2dfecb8e50a0e5720e5065</td>\n",
       "      <td>venture</td>\n",
       "      <td>A</td>\n",
       "      <td>01-08-2006</td>\n",
       "      <td>5000000.0</td>\n",
       "      <td>United States</td>\n",
       "      <td>Entertainment</td>\n",
       "      <td>1</td>\n",
       "    </tr>\n",
       "    <tr>\n",
       "      <th>62</th>\n",
       "      <td>/organization/huffingtonpost</td>\n",
       "      <td>The Huffington Post</td>\n",
       "      <td>http://www.huffingtonpost.com</td>\n",
       "      <td>Media</td>\n",
       "      <td>acquired</td>\n",
       "      <td>USA</td>\n",
       "      <td>/organization/huffingtonpost</td>\n",
       "      <td>/funding-round/9241ae16e08df17ebdc064e49e23035a</td>\n",
       "      <td>venture</td>\n",
       "      <td>B</td>\n",
       "      <td>01-09-2007</td>\n",
       "      <td>5000000.0</td>\n",
       "      <td>United States</td>\n",
       "      <td>Entertainment</td>\n",
       "      <td>1</td>\n",
       "    </tr>\n",
       "    <tr>\n",
       "      <th>85</th>\n",
       "      <td>/organization/matchmine</td>\n",
       "      <td>MatchMine</td>\n",
       "      <td>http://matchmine.com</td>\n",
       "      <td>Media</td>\n",
       "      <td>closed</td>\n",
       "      <td>USA</td>\n",
       "      <td>/organization/matchmine</td>\n",
       "      <td>/funding-round/41ac526630da57ad6eb9d02431b17657</td>\n",
       "      <td>venture</td>\n",
       "      <td>A</td>\n",
       "      <td>01-09-2007</td>\n",
       "      <td>10000000.0</td>\n",
       "      <td>United States</td>\n",
       "      <td>Entertainment</td>\n",
       "      <td>1</td>\n",
       "    </tr>\n",
       "  </tbody>\n",
       "</table>\n",
       "</div>"
      ],
      "text/plain": [
       "                        permalink                 name  \\\n",
       "7   /organization/all-def-digital      All Def Digital   \n",
       "31       /organization/chefs-feed            ChefsFeed   \n",
       "61   /organization/huffingtonpost  The Huffington Post   \n",
       "62   /organization/huffingtonpost  The Huffington Post   \n",
       "85        /organization/matchmine            MatchMine   \n",
       "\n",
       "                     homepage_url primary_sector     status country_code  \\\n",
       "7        http://alldefdigital.com          Media  operating          USA   \n",
       "31       http://www.chefsfeed.com          Media  operating          USA   \n",
       "61  http://www.huffingtonpost.com          Media   acquired          USA   \n",
       "62  http://www.huffingtonpost.com          Media   acquired          USA   \n",
       "85           http://matchmine.com          Media     closed          USA   \n",
       "\n",
       "                company_permalink  \\\n",
       "7   /organization/all-def-digital   \n",
       "31       /organization/chefs-feed   \n",
       "61   /organization/huffingtonpost   \n",
       "62   /organization/huffingtonpost   \n",
       "85        /organization/matchmine   \n",
       "\n",
       "                            funding_round_permalink funding_round_type  \\\n",
       "7   /funding-round/452a2342fe720285c3b92e9bd927d9ba            venture   \n",
       "31  /funding-round/adca195749ae9ace84684723fbe75e5b            venture   \n",
       "61  /funding-round/7f05940c4d2dfecb8e50a0e5720e5065            venture   \n",
       "62  /funding-round/9241ae16e08df17ebdc064e49e23035a            venture   \n",
       "85  /funding-round/41ac526630da57ad6eb9d02431b17657            venture   \n",
       "\n",
       "   funding_round_code   funded_at  raised_amount_usd        country  \\\n",
       "7                   A  06-08-2014          5000000.0  United States   \n",
       "31                  A  26-02-2015          5000000.0  United States   \n",
       "61                  A  01-08-2006          5000000.0  United States   \n",
       "62                  B  01-09-2007          5000000.0  United States   \n",
       "85                  A  01-09-2007         10000000.0  United States   \n",
       "\n",
       "      main_sector  value  \n",
       "7   Entertainment      1  \n",
       "31  Entertainment      1  \n",
       "61  Entertainment      1  \n",
       "62  Entertainment      1  \n",
       "85  Entertainment      1  "
      ]
     },
     "execution_count": 786,
     "metadata": {},
     "output_type": "execute_result"
    }
   ],
   "source": [
    "D1.head()"
   ]
  },
  {
   "cell_type": "code",
   "execution_count": 787,
   "metadata": {
    "collapsed": false
   },
   "outputs": [
    {
     "data": {
      "text/plain": [
       "main_sector\n",
       "Others                                     26321.007002\n",
       "Social, Finance, Analytics, Advertising    23807.376964\n",
       "Cleantech / Semiconductors                 21206.628192\n",
       "News, Search and Messaging                 13959.567428\n",
       "Health                                      8211.859357\n",
       "Manufacturing                               7258.553378\n",
       "Entertainment                               5099.197982\n",
       "Automotive & Sports                         1454.104361\n",
       "Name: raised_amount_usd, dtype: float64"
      ]
     },
     "execution_count": 787,
     "metadata": {},
     "output_type": "execute_result"
    }
   ],
   "source": [
    "# let us check the top sectors based on total amount invested in millions usd\n",
    "D1.groupby('main_sector').raised_amount_usd.sum().sort_values(ascending=False)*10**-6"
   ]
  },
  {
   "cell_type": "code",
   "execution_count": 788,
   "metadata": {
    "collapsed": false
   },
   "outputs": [],
   "source": [
    "# let us create a new column 'total_amt_invested' and initialize with 1\n",
    "D1['total_amt_invested']=1"
   ]
  },
  {
   "cell_type": "code",
   "execution_count": 789,
   "metadata": {
    "collapsed": false
   },
   "outputs": [],
   "source": [
    "# set the total amount invested values based on sector\n",
    "D1.loc[D1.main_sector=='Others','total_amt_invested'] = 26321.007002\n",
    "D1.loc[D1.main_sector=='Social, Finance, Analytics, Advertising','total_amt_invested'] = 23807.376964\n",
    "D1.loc[D1.main_sector=='Cleantech / Semiconductors','total_amt_invested'] = 21206.628192 \n",
    "D1.loc[D1.main_sector=='News, Search and Messaging','total_amt_invested'] = 13959.567428\n",
    "D1.loc[D1.main_sector=='Health','total_amt_invested'] = 8211.859357\n",
    "D1.loc[D1.main_sector=='Manufacturing','total_amt_invested'] = 7258.553378\n",
    "D1.loc[D1.main_sector=='Entertainment','total_amt_invested'] = 5099.197982\n",
    "D1.loc[D1.main_sector=='Automotive & Sports','total_amt_invested'] = 1454.104361"
   ]
  },
  {
   "cell_type": "code",
   "execution_count": 790,
   "metadata": {
    "collapsed": false
   },
   "outputs": [
    {
     "data": {
      "text/html": [
       "<div>\n",
       "<style>\n",
       "    .dataframe thead tr:only-child th {\n",
       "        text-align: right;\n",
       "    }\n",
       "\n",
       "    .dataframe thead th {\n",
       "        text-align: left;\n",
       "    }\n",
       "\n",
       "    .dataframe tbody tr th {\n",
       "        vertical-align: top;\n",
       "    }\n",
       "</style>\n",
       "<table border=\"1\" class=\"dataframe\">\n",
       "  <thead>\n",
       "    <tr style=\"text-align: right;\">\n",
       "      <th></th>\n",
       "      <th>value</th>\n",
       "    </tr>\n",
       "    <tr>\n",
       "      <th>main_sector</th>\n",
       "      <th></th>\n",
       "    </tr>\n",
       "  </thead>\n",
       "  <tbody>\n",
       "    <tr>\n",
       "      <th>Others</th>\n",
       "      <td>2950</td>\n",
       "    </tr>\n",
       "    <tr>\n",
       "      <th>Social, Finance, Analytics, Advertising</th>\n",
       "      <td>2714</td>\n",
       "    </tr>\n",
       "    <tr>\n",
       "      <th>Cleantech / Semiconductors</th>\n",
       "      <td>2300</td>\n",
       "    </tr>\n",
       "    <tr>\n",
       "      <th>News, Search and Messaging</th>\n",
       "      <td>1582</td>\n",
       "    </tr>\n",
       "    <tr>\n",
       "      <th>Health</th>\n",
       "      <td>909</td>\n",
       "    </tr>\n",
       "    <tr>\n",
       "      <th>Manufacturing</th>\n",
       "      <td>799</td>\n",
       "    </tr>\n",
       "    <tr>\n",
       "      <th>Entertainment</th>\n",
       "      <td>591</td>\n",
       "    </tr>\n",
       "    <tr>\n",
       "      <th>Automotive &amp; Sports</th>\n",
       "      <td>167</td>\n",
       "    </tr>\n",
       "  </tbody>\n",
       "</table>\n",
       "</div>"
      ],
      "text/plain": [
       "                                         value\n",
       "main_sector                                   \n",
       "Others                                    2950\n",
       "Social, Finance, Analytics, Advertising   2714\n",
       "Cleantech / Semiconductors                2300\n",
       "News, Search and Messaging                1582\n",
       "Health                                     909\n",
       "Manufacturing                              799\n",
       "Entertainment                              591\n",
       "Automotive & Sports                        167"
      ]
     },
     "execution_count": 790,
     "metadata": {},
     "output_type": "execute_result"
    }
   ],
   "source": [
    "# check the number of investments in D1 across main sector\n",
    "D1.loc[:,['main_sector','value']].groupby('main_sector').count().sort_values('value',ascending=False)"
   ]
  },
  {
   "cell_type": "code",
   "execution_count": 791,
   "metadata": {
    "collapsed": false
   },
   "outputs": [],
   "source": [
    "# let us create a new column 'main_sector_inv_count' for total number of investments in each sector and\n",
    "# initialize by 1\n",
    "D1['main_sector_inv_count']=1"
   ]
  },
  {
   "cell_type": "code",
   "execution_count": 792,
   "metadata": {
    "collapsed": true
   },
   "outputs": [],
   "source": [
    "# let us set the number of investment for each sector\n",
    "D1.loc[D1.main_sector=='Others','main_sector_inv_count'] = 2950\n",
    "D1.loc[D1.main_sector=='Social, Finance, Analytics, Advertising','main_sector_inv_count'] =  2714\n",
    "D1.loc[D1.main_sector=='Cleantech / Semiconductors','main_sector_inv_count'] = 2300\n",
    "D1.loc[D1.main_sector=='News, Search and Messaging','main_sector_inv_count'] = 1582\n",
    "D1.loc[D1.main_sector=='Health','main_sector_inv_count'] = 909\n",
    "D1.loc[D1.main_sector=='Manufacturing','main_sector_inv_count'] = 799\n",
    "D1.loc[D1.main_sector=='Entertainment','main_sector_inv_count'] = 591\n",
    "D1.loc[D1.main_sector=='Automotive & Sports','main_sector_inv_count'] = 167"
   ]
  },
  {
   "cell_type": "code",
   "execution_count": 796,
   "metadata": {
    "collapsed": false
   },
   "outputs": [
    {
     "data": {
      "text/plain": [
       "name\n",
       "Virtustream          64300000.0\n",
       "Capella Photonics    54968051.0\n",
       "AirTight Networks    54201907.0\n",
       "Name: raised_amount_usd, dtype: float64"
      ]
     },
     "execution_count": 796,
     "metadata": {},
     "output_type": "execute_result"
    }
   ],
   "source": [
    "# let us check top 3 companies recieved maximum investment for sector 'others'\n",
    "D1[D1.main_sector=='Others'].groupby('name').raised_amount_usd.sum().sort_values(ascending=False)[0:3]"
   ]
  },
  {
   "cell_type": "code",
   "execution_count": 797,
   "metadata": {
    "collapsed": false
   },
   "outputs": [
    {
     "data": {
      "text/plain": [
       "name\n",
       "SST Inc. (Formerly ShotSpotter)    67933006.0\n",
       "Demandbase                         63000000.0\n",
       "Intacct                            61800000.0\n",
       "Name: raised_amount_usd, dtype: float64"
      ]
     },
     "execution_count": 797,
     "metadata": {},
     "output_type": "execute_result"
    }
   ],
   "source": [
    "# let us check top 3 companies for the second best sector Cleantech / Semiconductors\n",
    "D1[D1.main_sector=='Social, Finance, Analytics, Advertising'].groupby('name').raised_amount_usd.sum().sort_values(ascending=False)[0:3]"
   ]
  },
  {
   "cell_type": "code",
   "execution_count": 798,
   "metadata": {
    "collapsed": true
   },
   "outputs": [],
   "source": [
    "# Data frame D2 for top 2 country: United Kingdom, Funding Type as 'venture'\n",
    "# and investment b/w 5 and 15 million usd.\n",
    "D2 = master_frame[(master_frame.country_code == 'GBR')&(master_frame.raised_amount_usd >= 5*10**6)\n",
    "                  &(master_frame.raised_amount_usd <= 15*10**6)&(master_frame.funding_round_type=='venture')].copy()"
   ]
  },
  {
   "cell_type": "code",
   "execution_count": 799,
   "metadata": {
    "collapsed": false
   },
   "outputs": [
    {
     "data": {
      "text/plain": [
       "main_sector\n",
       "Others                                     1283.624289\n",
       "Cleantech / Semiconductors                 1150.139665\n",
       "Social, Finance, Analytics, Advertising    1089.404014\n",
       "News, Search and Messaging                  615.746235\n",
       "Entertainment                               482.784687\n",
       "Manufacturing                               361.940335\n",
       "Health                                      214.537510\n",
       "Automotive & Sports                         167.051565\n",
       "Name: raised_amount_usd, dtype: float64"
      ]
     },
     "execution_count": 799,
     "metadata": {},
     "output_type": "execute_result"
    }
   ],
   "source": [
    "# let us check the top sectors based on total amount invested in millions usd\n",
    "D2.groupby('main_sector').raised_amount_usd.sum().sort_values(ascending=False)*10**-6"
   ]
  },
  {
   "cell_type": "code",
   "execution_count": 800,
   "metadata": {
    "collapsed": true
   },
   "outputs": [],
   "source": [
    "# let us create a new column 'total_amt_invested' for total amount of investments in each sector and\n",
    "# initialize by 1\n",
    "D2['total_amt_invested']=1"
   ]
  },
  {
   "cell_type": "code",
   "execution_count": 801,
   "metadata": {
    "collapsed": false
   },
   "outputs": [],
   "source": [
    "# set the total amount invested values based on sector\n",
    "D2.loc[D2.main_sector=='Others','total_amt_invested'] = 1283.624289\n",
    "D2.loc[D2.main_sector=='Cleantech / Semiconductors','total_amt_invested'] = 1150.139665\n",
    "D2.loc[D2.main_sector=='Social, Finance, Analytics, Advertising','total_amt_invested'] = 1089.404014\n",
    "D2.loc[D2.main_sector=='News, Search and Messaging','total_amt_invested'] = 615.746235\n",
    "D2.loc[D2.main_sector=='Manufacturing','total_amt_invested'] = 482.784687\n",
    "D2.loc[D2.main_sector=='Entertainment','total_amt_invested'] = 361.940335\n",
    "D2.loc[D2.main_sector=='Health','total_amt_invested'] = 214.537510\n",
    "D2.loc[D2.main_sector=='Automotive & Sports','total_amt_invested'] = 167.051565"
   ]
  },
  {
   "cell_type": "code",
   "execution_count": 802,
   "metadata": {
    "collapsed": false
   },
   "outputs": [
    {
     "data": {
      "text/html": [
       "<div>\n",
       "<style>\n",
       "    .dataframe thead tr:only-child th {\n",
       "        text-align: right;\n",
       "    }\n",
       "\n",
       "    .dataframe thead th {\n",
       "        text-align: left;\n",
       "    }\n",
       "\n",
       "    .dataframe tbody tr th {\n",
       "        vertical-align: top;\n",
       "    }\n",
       "</style>\n",
       "<table border=\"1\" class=\"dataframe\">\n",
       "  <thead>\n",
       "    <tr style=\"text-align: right;\">\n",
       "      <th></th>\n",
       "      <th>value</th>\n",
       "    </tr>\n",
       "    <tr>\n",
       "      <th>main_sector</th>\n",
       "      <th></th>\n",
       "    </tr>\n",
       "  </thead>\n",
       "  <tbody>\n",
       "    <tr>\n",
       "      <th>Others</th>\n",
       "      <td>147</td>\n",
       "    </tr>\n",
       "    <tr>\n",
       "      <th>Social, Finance, Analytics, Advertising</th>\n",
       "      <td>133</td>\n",
       "    </tr>\n",
       "    <tr>\n",
       "      <th>Cleantech / Semiconductors</th>\n",
       "      <td>128</td>\n",
       "    </tr>\n",
       "    <tr>\n",
       "      <th>News, Search and Messaging</th>\n",
       "      <td>73</td>\n",
       "    </tr>\n",
       "    <tr>\n",
       "      <th>Entertainment</th>\n",
       "      <td>56</td>\n",
       "    </tr>\n",
       "    <tr>\n",
       "      <th>Manufacturing</th>\n",
       "      <td>42</td>\n",
       "    </tr>\n",
       "    <tr>\n",
       "      <th>Health</th>\n",
       "      <td>24</td>\n",
       "    </tr>\n",
       "    <tr>\n",
       "      <th>Automotive &amp; Sports</th>\n",
       "      <td>16</td>\n",
       "    </tr>\n",
       "  </tbody>\n",
       "</table>\n",
       "</div>"
      ],
      "text/plain": [
       "                                         value\n",
       "main_sector                                   \n",
       "Others                                     147\n",
       "Social, Finance, Analytics, Advertising    133\n",
       "Cleantech / Semiconductors                 128\n",
       "News, Search and Messaging                  73\n",
       "Entertainment                               56\n",
       "Manufacturing                               42\n",
       "Health                                      24\n",
       "Automotive & Sports                         16"
      ]
     },
     "execution_count": 802,
     "metadata": {},
     "output_type": "execute_result"
    }
   ],
   "source": [
    "# count of number of investments in each sector in descending order for United Kingdom\n",
    "D2.loc[:,['main_sector','value']].groupby('main_sector').count().sort_values('value',ascending=False)"
   ]
  },
  {
   "cell_type": "code",
   "execution_count": 803,
   "metadata": {
    "collapsed": true
   },
   "outputs": [],
   "source": [
    "# let us create a new column 'main_sector_inv_count' for total number of investments in each sector and\n",
    "# initialize by 1\n",
    "D2['main_sector_inv_count']=1"
   ]
  },
  {
   "cell_type": "code",
   "execution_count": 804,
   "metadata": {
    "collapsed": true
   },
   "outputs": [],
   "source": [
    "# set the total number of investement values based on sector\n",
    "D2.loc[D2.main_sector=='Others','main_sector_inv_count'] = 147\n",
    "D2.loc[D2.main_sector=='Social, Finance, Analytics, Advertising','main_sector_inv_count'] = 133\n",
    "D2.loc[D2.main_sector=='Cleantech / Semiconductors','main_sector_inv_count'] = 128\n",
    "D2.loc[D2.main_sector=='News, Search and Messaging','main_sector_inv_count'] = 73\n",
    "D2.loc[D2.main_sector=='Entertainment','main_sector_inv_count'] = 56\n",
    "D2.loc[D2.main_sector=='Manufacturing','main_sector_inv_count'] = 42\n",
    "D2.loc[D2.main_sector=='Health','main_sector_inv_count'] = 24\n",
    "D2.loc[D2.main_sector=='Automotive & Sports','main_sector_inv_count'] = 16"
   ]
  },
  {
   "cell_type": "code",
   "execution_count": 805,
   "metadata": {
    "collapsed": false
   },
   "outputs": [
    {
     "data": {
      "text/plain": [
       "name\n",
       "Electric Cloud    37000000.0\n",
       "SenSage           36250000.0\n",
       "Enigmatec         32500000.0\n",
       "Name: raised_amount_usd, dtype: float64"
      ]
     },
     "execution_count": 805,
     "metadata": {},
     "output_type": "execute_result"
    }
   ],
   "source": [
    "# let us check which company recieved maximum investment for sector 'Others'\n",
    "D2[D2.main_sector=='Others'].groupby('name').raised_amount_usd.sum().sort_values(ascending=False)[0:3]"
   ]
  },
  {
   "cell_type": "code",
   "execution_count": 806,
   "metadata": {
    "collapsed": false
   },
   "outputs": [
    {
     "data": {
      "text/plain": [
       "name\n",
       "Celltick Technologies    37500000.0\n",
       "myThings                 34000000.0\n",
       "Zopa                     32900000.0\n",
       "Name: raised_amount_usd, dtype: float64"
      ]
     },
     "execution_count": 806,
     "metadata": {},
     "output_type": "execute_result"
    }
   ],
   "source": [
    "# let us check the second best sector investment\n",
    "D2[D2.main_sector=='Social, Finance, Analytics, Advertising'].groupby('name').raised_amount_usd.sum().sort_values(ascending=False)[0:3]"
   ]
  },
  {
   "cell_type": "code",
   "execution_count": 807,
   "metadata": {
    "collapsed": true
   },
   "outputs": [],
   "source": [
    "# Data frame D3 for top 3 country: India, Funding Type as 'venture'\n",
    "# and investment b/w 5 and 15 million usd.\n",
    "D3 = master_frame[(master_frame.country_code == 'IND')&(master_frame.raised_amount_usd >= 5*10**6)\n",
    "                  &(master_frame.raised_amount_usd <= 15*10**6)&(master_frame.funding_round_type=='venture')].copy()"
   ]
  },
  {
   "cell_type": "code",
   "execution_count": 808,
   "metadata": {
    "collapsed": false
   },
   "outputs": [
    {
     "data": {
      "text/plain": [
       "main_sector\n",
       "Others                                     1013.409507\n",
       "Social, Finance, Analytics, Advertising     550.549550\n",
       "News, Search and Messaging                  433.834545\n",
       "Entertainment                               280.830000\n",
       "Manufacturing                               200.900000\n",
       "Health                                      167.740000\n",
       "Cleantech / Semiconductors                  165.380000\n",
       "Automotive & Sports                         136.900000\n",
       "Name: raised_amount_usd, dtype: float64"
      ]
     },
     "execution_count": 808,
     "metadata": {},
     "output_type": "execute_result"
    }
   ],
   "source": [
    "# let us check the top sectors based on total amount invested in millions usd\n",
    "D3.groupby('main_sector').raised_amount_usd.sum().sort_values(ascending=False)*10**-6"
   ]
  },
  {
   "cell_type": "code",
   "execution_count": 809,
   "metadata": {
    "collapsed": true
   },
   "outputs": [],
   "source": [
    "# let us create a new column 'total_amt_invested' for total amount of investments in each sector and\n",
    "# initialize by 1\n",
    "D3['total_amt_invested']=1"
   ]
  },
  {
   "cell_type": "code",
   "execution_count": 810,
   "metadata": {
    "collapsed": true
   },
   "outputs": [],
   "source": [
    "# set the total amount invested values based on sector\n",
    "D3.loc[D3.main_sector=='Others','total_amt_invested'] = 1013.409507\n",
    "D3.loc[D3.main_sector=='Social, Finance, Analytics, Advertising','total_amt_invested'] = 550.549550\n",
    "D3.loc[D3.main_sector=='News, Search and Messaging','total_amt_invested'] = 433.834545\n",
    "D3.loc[D3.main_sector=='Entertainment','total_amt_invested'] = 280.830000\n",
    "D3.loc[D3.main_sector=='Manufacturing','total_amt_invested'] = 200.900000\n",
    "D3.loc[D3.main_sector=='Health','total_amt_invested'] = 167.740000\n",
    "D3.loc[D3.main_sector=='Cleantech / Semiconductors','total_amt_invested'] = 165.380000\n",
    "D3.loc[D3.main_sector=='Automotive & Sports','total_amt_invested'] = 136.900000"
   ]
  },
  {
   "cell_type": "code",
   "execution_count": 579,
   "metadata": {
    "collapsed": false
   },
   "outputs": [
    {
     "data": {
      "text/html": [
       "<div>\n",
       "<style>\n",
       "    .dataframe thead tr:only-child th {\n",
       "        text-align: right;\n",
       "    }\n",
       "\n",
       "    .dataframe thead th {\n",
       "        text-align: left;\n",
       "    }\n",
       "\n",
       "    .dataframe tbody tr th {\n",
       "        vertical-align: top;\n",
       "    }\n",
       "</style>\n",
       "<table border=\"1\" class=\"dataframe\">\n",
       "  <thead>\n",
       "    <tr style=\"text-align: right;\">\n",
       "      <th></th>\n",
       "      <th>value</th>\n",
       "    </tr>\n",
       "    <tr>\n",
       "      <th>main_sector</th>\n",
       "      <th></th>\n",
       "    </tr>\n",
       "  </thead>\n",
       "  <tbody>\n",
       "    <tr>\n",
       "      <th>Others</th>\n",
       "      <td>110</td>\n",
       "    </tr>\n",
       "    <tr>\n",
       "      <th>Social, Finance, Analytics, Advertising</th>\n",
       "      <td>60</td>\n",
       "    </tr>\n",
       "    <tr>\n",
       "      <th>News, Search and Messaging</th>\n",
       "      <td>52</td>\n",
       "    </tr>\n",
       "    <tr>\n",
       "      <th>Entertainment</th>\n",
       "      <td>33</td>\n",
       "    </tr>\n",
       "    <tr>\n",
       "      <th>Manufacturing</th>\n",
       "      <td>21</td>\n",
       "    </tr>\n",
       "    <tr>\n",
       "      <th>Cleantech / Semiconductors</th>\n",
       "      <td>20</td>\n",
       "    </tr>\n",
       "    <tr>\n",
       "      <th>Health</th>\n",
       "      <td>19</td>\n",
       "    </tr>\n",
       "    <tr>\n",
       "      <th>Automotive &amp; Sports</th>\n",
       "      <td>13</td>\n",
       "    </tr>\n",
       "  </tbody>\n",
       "</table>\n",
       "</div>"
      ],
      "text/plain": [
       "                                         value\n",
       "main_sector                                   \n",
       "Others                                     110\n",
       "Social, Finance, Analytics, Advertising     60\n",
       "News, Search and Messaging                  52\n",
       "Entertainment                               33\n",
       "Manufacturing                               21\n",
       "Cleantech / Semiconductors                  20\n",
       "Health                                      19\n",
       "Automotive & Sports                         13"
      ]
     },
     "execution_count": 579,
     "metadata": {},
     "output_type": "execute_result"
    }
   ],
   "source": [
    "# count of investment in each sector in descending order for India\n",
    "D3.loc[:,['main_sector','value']].groupby('main_sector').count().sort_values('value',ascending=False)"
   ]
  },
  {
   "cell_type": "code",
   "execution_count": 811,
   "metadata": {
    "collapsed": true
   },
   "outputs": [],
   "source": [
    "# let us create a new column 'main_sector_inv_count' for total number of investments in each sector\n",
    "# and initialize by 1.\n",
    "D3['main_sector_inv_count']=1"
   ]
  },
  {
   "cell_type": "code",
   "execution_count": 812,
   "metadata": {
    "collapsed": true
   },
   "outputs": [],
   "source": [
    "# let us set the total number of investment for each sector.\n",
    "D3.loc[D3.main_sector=='Others','main_sector_inv_count'] = 110\n",
    "D3.loc[D3.main_sector=='Social, Finance, Analytics, Advertising','main_sector_inv_count'] = 60\n",
    "D3.loc[D3.main_sector=='News, Search and Messaging','main_sector_inv_count'] = 52\n",
    "D3.loc[D3.main_sector=='Entertainment','main_sector_inv_count'] = 33\n",
    "D3.loc[D3.main_sector=='Manufacturing','main_sector_inv_count'] = 21\n",
    "D3.loc[D3.main_sector=='Cleantech / Semiconductors','main_sector_inv_count'] = 20\n",
    "D3.loc[D3.main_sector=='Health','main_sector_inv_count'] = 19\n",
    "D3.loc[D3.main_sector=='Automotive & Sports','main_sector_inv_count'] = 13"
   ]
  },
  {
   "cell_type": "code",
   "execution_count": 813,
   "metadata": {
    "collapsed": false
   },
   "outputs": [
    {
     "data": {
      "text/plain": [
       "name\n",
       "FirstCry.com    39000000.0\n",
       "Myntra          38000000.0\n",
       "CommonFloor     32900000.0\n",
       "Name: raised_amount_usd, dtype: float64"
      ]
     },
     "execution_count": 813,
     "metadata": {},
     "output_type": "execute_result"
    }
   ],
   "source": [
    "# let us check which top 3 companies which recieved maximum investment for sector 'Others'\n",
    "D3[D3.main_sector=='Others'].groupby('name').raised_amount_usd.sum().sort_values(ascending=False)[0:3]"
   ]
  },
  {
   "cell_type": "code",
   "execution_count": 814,
   "metadata": {
    "collapsed": false
   },
   "outputs": [
    {
     "data": {
      "text/plain": [
       "name\n",
       "Manthan Systems    50700000.0\n",
       "Komli Media        28000000.0\n",
       "ShopClues.com      25000000.0\n",
       "Name: raised_amount_usd, dtype: float64"
      ]
     },
     "execution_count": 814,
     "metadata": {},
     "output_type": "execute_result"
    }
   ],
   "source": [
    "# let us check top 3 countries investment in second best sector\n",
    "D3[D3.main_sector=='Social, Finance, Analytics, Advertising'].groupby('name').raised_amount_usd.sum().sort_values(ascending=False)[0:3]"
   ]
  },
  {
   "cell_type": "code",
   "execution_count": 815,
   "metadata": {
    "collapsed": false
   },
   "outputs": [
    {
     "data": {
      "text/plain": [
       "value    12012\n",
       "dtype: int64"
      ]
     },
     "execution_count": 815,
     "metadata": {},
     "output_type": "execute_result"
    }
   ],
   "source": [
    "# Total number of investment count - USA\n",
    "D1.loc[:,['main_sector','value']].groupby('main_sector').count().sum()"
   ]
  },
  {
   "cell_type": "code",
   "execution_count": 816,
   "metadata": {
    "collapsed": false
   },
   "outputs": [
    {
     "data": {
      "text/plain": [
       "value    619\n",
       "dtype: int64"
      ]
     },
     "execution_count": 816,
     "metadata": {},
     "output_type": "execute_result"
    }
   ],
   "source": [
    "# Total number of investment count - United Kingdom\n",
    "D2.loc[:,['main_sector','value']].groupby('main_sector').count().sum()"
   ]
  },
  {
   "cell_type": "code",
   "execution_count": 817,
   "metadata": {
    "collapsed": false
   },
   "outputs": [
    {
     "data": {
      "text/plain": [
       "value    328\n",
       "dtype: int64"
      ]
     },
     "execution_count": 817,
     "metadata": {},
     "output_type": "execute_result"
    }
   ],
   "source": [
    "# Total number of investment count - India\n",
    "D3.loc[:,['main_sector','value']].groupby('main_sector').count().sum()"
   ]
  },
  {
   "cell_type": "code",
   "execution_count": 818,
   "metadata": {
    "collapsed": false
   },
   "outputs": [
    {
     "data": {
      "text/plain": [
       "107318294664.0"
      ]
     },
     "execution_count": 818,
     "metadata": {},
     "output_type": "execute_result"
    }
   ],
   "source": [
    "# Total amount of investment in USA \n",
    "D1.raised_amount_usd.sum()"
   ]
  },
  {
   "cell_type": "code",
   "execution_count": 819,
   "metadata": {
    "collapsed": false
   },
   "outputs": [
    {
     "data": {
      "text/plain": [
       "5365228300.0"
      ]
     },
     "execution_count": 819,
     "metadata": {},
     "output_type": "execute_result"
    }
   ],
   "source": [
    "# Total amount of investment in United Kingdom \n",
    "D2.raised_amount_usd.sum()"
   ]
  },
  {
   "cell_type": "code",
   "execution_count": 821,
   "metadata": {
    "collapsed": false
   },
   "outputs": [
    {
     "data": {
      "text/plain": [
       "2949543602.0"
      ]
     },
     "execution_count": 821,
     "metadata": {},
     "output_type": "execute_result"
    }
   ],
   "source": [
    "# Total amount of investment in India \n",
    "D3.raised_amount_usd.sum()"
   ]
  },
  {
   "cell_type": "markdown",
   "metadata": {},
   "source": [
    "## Checkpoint 6: Plots\n",
    "\n",
    "In this section we draw various visualizations to represent what should be the best investment option for Spark funds"
   ]
  },
  {
   "cell_type": "code",
   "execution_count": 822,
   "metadata": {
    "collapsed": false
   },
   "outputs": [],
   "source": [
    "# as we need to visualize total investment globally in venture, seed and private_equity, let's filter\n",
    "# the data from master_frame in new data frame c1\n",
    "c1 = master_frame[(master_frame.funding_round_type=='venture') | (master_frame.funding_round_type=='seed')|\n",
    "                  (master_frame.funding_round_type=='private_equity')].copy()"
   ]
  },
  {
   "cell_type": "markdown",
   "metadata": {},
   "source": [
    "Plot for fraction of total investments globally in venture, seed and private equity\n",
    "& average amount of funding in each."
   ]
  },
  {
   "cell_type": "code",
   "execution_count": 823,
   "metadata": {
    "collapsed": false
   },
   "outputs": [],
   "source": [
    "# will create a categorical variable to indicate if average investment amount is within range or not.\n",
    "c1['Is_within_investment_range']= False\n",
    "c1.loc[c1.funding_round_type=='venture','Is_within_investment_range']=True"
   ]
  },
  {
   "cell_type": "code",
   "execution_count": 825,
   "metadata": {
    "collapsed": false
   },
   "outputs": [
    {
     "data": {
      "image/png": "[encoded data removed]",
      "text/plain": [
       "<matplotlib.figure.Figure at 0x16ff4940>"
      ]
     },
     "metadata": {},
     "output_type": "display_data"
    }
   ],
   "source": [
    "# increase figure size \n",
    "plt.figure(figsize=(12, 6))\n",
    "sns.set_style(\"darkgrid\")\n",
    "\n",
    "# create title for all plots\n",
    "plt.suptitle('Global Investment Patterns in Seed, Venture and Private Equity',fontsize =15)\n",
    "\n",
    "# create subplot 1 containing fraction of total investments\n",
    "plt.subplot(1, 2, 1)\n",
    "sns.barplot(x=c1.funding_round_type,y=(c1.raised_amount_usd/master_frame.raised_amount_usd.sum()),estimator=np.sum)\n",
    "plt.ylabel('Fraction of Global Investments',fontsize =12)\n",
    "plt.xlabel('Funding Type',fontsize =12)\n",
    "\n",
    "# create subplot 2 containing average investments\n",
    "ax =plt.subplot(1, 2, 2)\n",
    "sns.barplot(x=c1.funding_round_type,y=(c1.raised_amount_usd)*10**-6,hue=c1.Is_within_investment_range)\n",
    "plt.ylabel('Average Investment Amount in millions(usd)',fontsize =12)\n",
    "plt.xlabel('Funding Type',fontsize =12)\n",
    "# add horizontal line at 5 million mark\n",
    "ax.axhline(y=5)\n",
    "# add horizontal line at 15 million mark\n",
    "ax.axhline(y=15)\n",
    "# add label for 5 million mark\n",
    "ax.text(0,5,'5 million',ha='right')\n",
    "# add label for 15 million mark\n",
    "ax.text(0,15,'15 million',ha='right')\n",
    "\n",
    "plt.show()"
   ]
  },
  {
   "cell_type": "markdown",
   "metadata": {},
   "source": [
    "From above plots it is clear that funding type venture accounts for 60% of number of investments globally while the average investment amount is with 5 to 15 million usd as required by Spark Funds' strategy."
   ]
  },
  {
   "cell_type": "code",
   "execution_count": 826,
   "metadata": {
    "collapsed": false
   },
   "outputs": [],
   "source": [
    "# let's create a new data frame copy for venture funding type which contain top 9 investment countries\n",
    "c2 = master_frame.loc[(master_frame.funding_round_type=='venture') & (master_frame.country_code.isin(top9.index))].copy()"
   ]
  },
  {
   "cell_type": "code",
   "execution_count": 827,
   "metadata": {
    "collapsed": false
   },
   "outputs": [
    {
     "data": {
      "image/png": "[encoded data removed]",
      "text/plain": [
       "<matplotlib.figure.Figure at 0x14e23780>"
      ]
     },
     "metadata": {},
     "output_type": "display_data"
    }
   ],
   "source": [
    "# below is one way to create top 9 investment countries for venture fund\n",
    "c2.groupby('country').raised_amount_usd.sum().sort_values(ascending=False).plot(kind='bar')\n",
    "plt.show()"
   ]
  },
  {
   "cell_type": "code",
   "execution_count": 828,
   "metadata": {
    "collapsed": true
   },
   "outputs": [],
   "source": [
    "# another way is by using seaborn, create a groupby object based on country\n",
    "c2_grouped = c2.groupby('country').raised_amount_usd.sum().sort_values(ascending=False)"
   ]
  },
  {
   "cell_type": "code",
   "execution_count": 829,
   "metadata": {
    "collapsed": false
   },
   "outputs": [
    {
     "data": {
      "image/png": "[encoded data removed]",
      "text/plain": [
       "<matplotlib.figure.Figure at 0xc6470b8>"
      ]
     },
     "metadata": {},
     "output_type": "display_data"
    }
   ],
   "source": [
    "# draw a plot to diplay top 9 investment destinations\n",
    "plt.figure(figsize=(8, 6))\n",
    "plt.title('Top 9 investment destinations for Venture Funding',fontsize=14)\n",
    "sns.barplot(y=c2_grouped.index,x=(c2_grouped.values)*10**-9,estimator=np.sum)\n",
    "plt.xlabel('Total Investment in Billions(usd)',fontsize=12)\n",
    "plt.ylabel('Country',fontsize=12)\n",
    "plt.show()"
   ]
  },
  {
   "cell_type": "markdown",
   "metadata": {},
   "source": [
    "Based on the top 9 investment destinations shown above the top 3 investment destination where english is official language are: United States, United Kingdom and India"
   ]
  },
  {
   "cell_type": "code",
   "execution_count": 830,
   "metadata": {
    "collapsed": false
   },
   "outputs": [],
   "source": [
    "# let's now filter out top 3 countries in new data frame c3\n",
    "c3 = c2[c2.country_code.isin(['USA','CHN','GBR'])& c2.main_sector.isin(['Others','Cleantech / Semiconductors','Social, Finance, Analytics, Advertising'])]"
   ]
  },
  {
   "cell_type": "code",
   "execution_count": 831,
   "metadata": {
    "collapsed": false
   },
   "outputs": [
    {
     "data": {
      "image/png": "[encoded data removed]",
      "text/plain": [
       "<matplotlib.figure.Figure at 0xc8691d0>"
      ]
     },
     "metadata": {},
     "output_type": "display_data"
    }
   ],
   "source": [
    "sns.countplot(y= c3.country,hue=c3.main_sector)\n",
    "plt.title('number of investment across top 3 countries')\n",
    "plt.ylabel('countries')\n",
    "plt.xlabel('count of investments')\n",
    "plt.show()"
   ]
  },
  {
   "cell_type": "markdown",
   "metadata": {},
   "source": [
    "Let us also draw top investment sectors for top 3 English speaking countries."
   ]
  },
  {
   "cell_type": "code",
   "execution_count": 832,
   "metadata": {
    "collapsed": false
   },
   "outputs": [],
   "source": [
    "# create a new data frame using concatenation of top 3 sectors of the top 3 countries (english speaking)\n",
    "top3 = pd.concat([D1.loc[D1.main_sector.isin(['Others','Social, Finance, Analytics, Advertising','Cleantech / Semiconductors'])]\n",
    "                 ,D2.loc[D2.main_sector.isin(['Others','Social, Finance, Analytics, Advertising','Cleantech / Semiconductors'])]                          \n",
    "                  ,D3.loc[D3.main_sector.isin(['Others','Social, Finance, Analytics, Advertising','News, Search and Messaging'])]\n",
    "                 ], axis=0 )"
   ]
  },
  {
   "cell_type": "code",
   "execution_count": 833,
   "metadata": {
    "collapsed": false
   },
   "outputs": [
    {
     "data": {
      "image/png": "[encoded data removed]",
      "text/plain": [
       "<matplotlib.figure.Figure at 0xd21f780>"
      ]
     },
     "metadata": {},
     "output_type": "display_data"
    }
   ],
   "source": [
    "# let us draw plot for the same.\n",
    "\n",
    "# increase figure size \n",
    "plt.figure(figsize=(8, 6))\n",
    "sns.countplot(y= top3.country,hue=top3.main_sector)\n",
    "plt.title('Number of Investments across top 3 English speaking Countries',fontsize=14)\n",
    "plt.ylabel('countries',fontsize=14)\n",
    "plt.xlabel('count of investments',fontsize=14)\n",
    "plt.show()"
   ]
  },
  {
   "cell_type": "markdown",
   "metadata": {},
   "source": [
    "Following are the analysis findings:\n",
    "\n",
    "The most appropriate funding round for invest by Spark Funds is venture. The reason for this is as follows:\n",
    "* Venture funding constitutes about 60% of global investments based on number of investments\n",
    "* The average venture funding is between 5-15 million us dollars investment amount range that Spark Funds wants to invest               \n",
    "\n",
    "The top 3 countries to target for investment by Spark Funds are: United States, United Kingdom and India. These are:\n",
    "* Among the top 9 most invested countries in the world.\n",
    "* Are all countries where English is official language.\n",
    "\n",
    "The top sectors to invest in above countries are:\n",
    "* Others\n",
    "* Social, Finance, Analytics, Advertising\n",
    "* Cleantech / Semiconductors\n",
    "* News, Search and Messaging       \n"
   ]
  }
 ],
 "metadata": {
  "kernelspec": {
   "display_name": "Python 3",
   "language": "python",
   "name": "python3"
  },
  "language_info": {
   "codemirror_mode": {
    "name": "ipython",
    "version": 3
   },
   "file_extension": ".py",
   "mimetype": "text/x-python",
   "name": "python",
   "nbconvert_exporter": "python",
   "pygments_lexer": "ipython3",
   "version": "3.6.0"
  }
 },
 "nbformat": 4,
 "nbformat_minor": 2
}
